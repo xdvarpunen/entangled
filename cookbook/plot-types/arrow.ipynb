{
 "cells": [
  {
   "cell_type": "code",
   "execution_count": 1,
   "metadata": {
    "dotnet_interactive": {
     "language": "fsharp"
    },
    "polyglot_notebook": {
     "kernelName": "fsharp"
    }
   },
   "outputs": [
    {
     "data": {
      "text/html": [
       "<table><tbody><tr><td><img src=\"data:image/png;base64, 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\" width=\"125em\"></img></td><td style=\"line-height:.8em\"><p style=\"font-size:1.5em\"><b>.NET Interactive</b></p><p>&#169; 2020 Microsoft Corporation</p><p><b>Version: </b>1.0.522904+cdfa48b2ea1a27dfe0f545c42a34fd3ec7119074</p><p><b>Library version: </b>1.0.0-beta.24229.4+cdfa48b2ea1a27dfe0f545c42a34fd3ec7119074</p><p><b>Build date: </b>2024-10-05T01:28:30.3244930Z</p><p><a href=\"https://github.com/dotnet/interactive\">https://github.com/dotnet/interactive</a></p></td></tr></tbody></table>"
      ]
     },
     "metadata": {},
     "output_type": "display_data"
    }
   ],
   "source": [
    "#!about"
   ]
  },
  {
   "cell_type": "code",
   "execution_count": 2,
   "metadata": {
    "dotnet_interactive": {
     "language": "fsharp"
    },
    "polyglot_notebook": {
     "kernelName": "fsharp"
    }
   },
   "outputs": [
    {
     "data": {
      "text/html": [
       "<div><div></div><div></div><div><strong>Installed Packages</strong><ul><li><span>ScottPlot, 5.0.39</span></li></ul></div></div>"
      ]
     },
     "metadata": {},
     "output_type": "display_data"
    },
    {
     "data": {
      "text/plain": [
       "Loading extensions from `C:\\Users\\0\\.nuget\\packages\\skiasharp\\2.88.8\\interactive-extensions\\dotnet\\SkiaSharp.DotNet.Interactive.dll`"
      ]
     },
     "metadata": {},
     "output_type": "display_data"
    }
   ],
   "source": [
    "// Install the ScottPlot NuGet package\n",
    "#r \"nuget:ScottPlot, 5.0.*\"\n",
    "open ScottPlot"
   ]
  },
  {
   "cell_type": "code",
   "execution_count": 3,
   "metadata": {
    "dotnet_interactive": {
     "language": "fsharp"
    },
    "polyglot_notebook": {
     "kernelName": "fsharp"
    }
   },
   "outputs": [],
   "source": [
    "open Microsoft.DotNet.Interactive.Formatting\n",
    "open ScottPlot\n",
    "open System.IO\n",
    "\n",
    "Formatter.Register<Plot>(\n",
    "    (fun (p: Plot) (w: TextWriter) -> \n",
    "        w.Write(p.GetImageHtml(400, 300))), \n",
    "    HtmlFormatter.MimeType\n",
    ")"
   ]
  },
  {
   "cell_type": "markdown",
   "metadata": {},
   "source": [
    "Source: https://scottplot.net/cookbook/5.0/Annotation/"
   ]
  },
  {
   "cell_type": "markdown",
   "metadata": {},
   "source": [
    "# Arrow"
   ]
  },
  {
   "cell_type": "markdown",
   "metadata": {},
   "source": [
    "## Arrow Quickstart\n",
    "\n",
    "Arrows can be placed on plots to point to a location in coordinate space and extensively customized."
   ]
  },
  {
   "cell_type": "code",
   "execution_count": 7,
   "metadata": {
    "dotnet_interactive": {
     "language": "fsharp"
    },
    "polyglot_notebook": {
     "kernelName": "fsharp"
    }
   },
   "outputs": [
    {
     "data": {
      "text/html": [
       "<img src=\"data:image/png;base64,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\"></img>"
      ]
     },
     "metadata": {},
     "output_type": "display_data"
    }
   ],
   "source": [
    "open ScottPlot\n",
    "\n",
    "// Create a new plot\n",
    "let myPlot = new Plot()\n",
    "\n",
    "// Create a line for the arrow\n",
    "let arrowTip = Coordinates(0, 0)\n",
    "let arrowBase = Coordinates(1, 1)\n",
    "let arrowLine = CoordinateLine(arrowBase, arrowTip)\n",
    "\n",
    "// Add a simple arrow\n",
    "myPlot.Add.Arrow(arrowLine)\n",
    "\n",
    "// Customize arrow line and fill styles\n",
    "let arrow2 = myPlot.Add.Arrow(arrowLine.WithDelta(1, 0))\n",
    "arrow2.ArrowLineColor <- Colors.Red\n",
    "arrow2.ArrowMinimumLength <- 100f\n",
    "arrow2.ArrowFillColor <- Colors.Transparent\n",
    "\n",
    "// Adjust the shape of the arrowhead\n",
    "let skinny = myPlot.Add.Arrow(arrowLine.WithDelta(2, 0))\n",
    "skinny.ArrowFillColor <- Colors.Green\n",
    "skinny.ArrowLineWidth <- 0f\n",
    "skinny.ArrowWidth <- 3f\n",
    "skinny.ArrowheadLength <- 20f\n",
    "skinny.ArrowheadAxisLength <- 20f\n",
    "skinny.ArrowheadWidth <- 7f\n",
    "\n",
    "let fat = myPlot.Add.Arrow(arrowLine.WithDelta(3, 0))\n",
    "fat.ArrowFillColor <- Colors.Blue\n",
    "fat.ArrowLineWidth <- 0f\n",
    "fat.ArrowWidth <- 18f\n",
    "fat.ArrowheadLength <- 20f\n",
    "fat.ArrowheadAxisLength <- 20f\n",
    "fat.ArrowheadWidth <- 30f\n",
    "\n",
    "// Offset backs the arrow away from the tip coordinate\n",
    "myPlot.Add.Marker(arrowLine.WithDelta(4, 0).End)\n",
    "let arrow4 = myPlot.Add.Arrow(arrowLine.WithDelta(4, 0))\n",
    "arrow4.ArrowOffset <- 15f\n",
    "\n",
    "// Set limits for the axes\n",
    "myPlot.Axes.SetLimits(-1, 6, -1, 2)\n",
    "\n",
    "myPlot"
   ]
  }
 ],
 "metadata": {
  "kernelspec": {
   "display_name": ".NET (C#)",
   "language": "C#",
   "name": ".net-csharp"
  },
  "polyglot_notebook": {
   "kernelInfo": {
    "defaultKernelName": "csharp",
    "items": [
     {
      "aliases": [],
      "name": "csharp"
     },
     {
      "aliases": [],
      "languageName": "fsharp",
      "name": "fsharp"
     }
    ]
   }
  }
 },
 "nbformat": 4,
 "nbformat_minor": 2
}
