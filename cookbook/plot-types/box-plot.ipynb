{
 "cells": [
  {
   "cell_type": "code",
   "execution_count": 1,
   "metadata": {
    "dotnet_interactive": {
     "language": "fsharp"
    },
    "polyglot_notebook": {
     "kernelName": "fsharp"
    }
   },
   "outputs": [
    {
     "data": {
      "text/html": [
       "<table><tbody><tr><td><img src=\"data:image/png;base64, iVBORw0KGgoAAAANSUhEUgAAAcgAAAHICAYAAADKoXrqAAAACXBIWXMAAAsTAAALEwEAmpwYAAAAAXNSR0IArs4c6QAAAARnQU1BAACxjwv8YQUAAA5XSURBVHgB7d1frNd1HcfxjyYNwUOUcUbiBaxWbHQbXoNb3dCwrcFNXhyuGmk3XcBWeWG2xUVXFnkFW3rD5pYuvHETug1ucVM3B6vB6DjSYJjhkn6fn2GkrwPn/M7n+/v7eGxMN5nTo5wn38/v+35/7vnejnM3CwBwu5v3FgDgMwQSAAKBBIBAIAEgEEgACAQSAAKBBIBAIAEgEEgACAQSAAKBBIBAIAEgEEgACAQSAAKBBIBAIAEgEEgACAQSAAKBBIBAIAEgEEgACAQSAAKBBIBAIAEgEEgACAQSAAKBBIBAIAEgEEgACAQSAAKBBIBAIAEgEEgACAQSAAKBBIBAIAEgEEgACAQSAAKBBIBAIAEgEEgACAQSAAKBBIBAIAEgEEgACAQSAAKBBIBAIAEgEEgACAQSAAKBBIBAIAEgEEgACAQSAAKBBIBAIAEgEEgACAQSAAKBBIBAIAEgEEgACAQSAAKBBIBAIAEgEEgACAQSAAKBBIBAIAEgEEgACAQSAAKBBIBAIAEgEEgACAQSAAKBBIBAIAEgEEgACAQSAAKBBIBAIAEgEEgACAQSAAKBBIBAIAEgEEgACAQSAAKBBIBAIAEgEEgACAQSAAKBBIBAIAEgEEgACAQSAAKBBIBAIAEgEEgACAQSAAKBBIBAIAEgEEgACAQSAAKBBIBAIAEgEEgACAQSAAKBBIBAIAEgEEgACAQSAAKBBIBAIAEgEEgACAQSAAKBBIBAIAEgEEgACAQSAAKBBIBAIAEgEEgACAQSAAKBBIBAIAEgEEgACAQSAAKBBIBAIAEgEEgACAQSAAKBBIBAIAEgEEgACAQSAAKBBIBAIAEgEEgACAQSAAKBBIBAIAEgEEgACAQSAAKBBIBAIAEgEEgACAQSAAKBBIBAIAEgEEgACAQSAAKBBIBAIAEgEEgACAQSAAKBBIBAIAEgEEgACAQSAAKBBIBAIAEgEEgACAQSAAKBBIBAIAEgEEgACAQSAAKBBIBAIAEgEEgACAQSAIL7ChPtuVe/XuYfWlNaO3f2enlq4UKZZju+tb784vjW0sIPv/1WWbz0YenS/oObej/my6xZvPhh+eF33rrrz+vq18IsO/2Hd8uzP79UZpUnSKJv9uKx5/EvFYBZJZAsqT6t+B05MKsEkiWtn/tcWTi8uQDMIoHkjh7ZvaF33LquAMwageSunnjm4f7TJMAsEUjuan7LmrLv4KYCMEsEkmX57uMPOmoFZopAsmz7ZnAGD5hdAsmymY0EZolAsiJmI4FZIZCsSH2b9YlfbikA004gWbF61Lpz91wBmGYCyUAOHPqK2UhgqgkkAzEbCUw7gWRgZiOBaeY+SFZloXfU+pPvv12YLNev/bucf+ODMgneuXhjWT/vQu/fZ3GZP7cr27avbfbRw+KlG/27MEfp/Jv/KrNMIFmV+g2hzkaefP7vhclR4zhtF2L/6sd/KaP29PGt/ZfYWjj90nvlxNF3CqPjiJVVMxsJTCOBZNXMRgLTSCBpwmwkMG0Ekmae7D1Fmo0EpoVA0kyNo9lIYFoIJE2ZjQSmhUDSd+7s9dJKnY0EmHQCSd/xI5dLK3U2cr+jVmDCCSR9mx5aU868dq20sqd31Go2EphkAklffcHmjy9cKa2YjQQmnUDSt37DveX13ueQLT+LrLORu/ZuLACTSCDpuzW/+JufXSwtHTi82WwkMJEEkv9Tbw9ouXjcbCQwqQSSvnW3PeWdOLrYv2qnFbORwCQSSPoemPvf/wr1rsBnf3qptPTEMw87agUmikAS1Rd2zpy6WlqZ37Kmf28kwKQQSJZ07Mjl/tNkK2YjgUkikCypvrBz4rftbjQ3GwlMEoHkjk6+cKX5bKSjVmASCCR31Xo2cv/BeS/sAGNPILmr/lHr0bZHrQuHNheAcSaQLMvJ5680nY3c/dhGs5HAWBNIlsVsJDBrBJJlq7ORLdfQmY0ExplAsiJ1DV3L2cj6wo7ZSGAcCSQr0slRq9lIYAwJJCtWV9CZjQSmnUAykDob2fqo1Qs7wDgRSAbSzRq6hwrAuBBIBtZ6Dd0juzeYjQTGhkCyKsePXC4tmY0ExoVAsirn3/jAbCQwle4rsEp1NnLnow+U+Yc+X1qoL+z8+dS1cqEXX7qxbfva8vTxrWVcnX7pvXL65fcKjJJAsmq3ZiN/0fAb7oFDm8tTCxcK3ajH2HW8Zly93vCzbRiUI1aaqN/Q6u/6WzEbCYyaQNLMsSOXraEDpoZA0kyNY+vZyIXD7o0ERkMgacpsJDAtBJLmWq+hMxsJjIJA0lxdQ9d6NnLfwU0FYJgEkk7U2cjzDecYv/v4g45agaESSDpzrPEaun0H5wvAsAgknamzkS2PWs1GAsMkkHSqHrUuXrpRWjEbCQyLQNKpW2voWvn43sgtBaBrAknn6lHrmVNXSyv1qHXn7rkC0CWBZCjqU2TL2cgDh75iNhLolEAyFK3X0JmNBLrmuiuGpq6h2/noXLNrlups5Nne0e25s+8XVqb+huX6tY/KuLp+dXz/2ZgdAslQ1TV0v37xq82ORxd6R60/+f7bhZWpSxzctwl35oiVoWq9hm7b9rVmI4FOCCRDZzYSmAQCyUiYjQTGnUAyEl2soTMbCbQkkIxM66PWJ3tPkWYjgVYEkpGpowbHfvW30kqNo9lIoBWBZKTO9OcYr5dW3BsJtCKQjFydjWy5hq7ORgKslkAycnU2suUaujobud9RK7BKAslYqGvoWh617ukdtZqNBFZDIBkbx49cLq2YjQRWSyAZG3U/6Imj7Y5a62zkrr0bC8AgBJKxcvL5K01nIw8c3mw2EhiIQDJW6tusrdfQmY0EBiGQjJ3Wa+jMRgKDEEjGUl1D13I28olnHv7MUev7V9v9/YHpI5CMpdZHrfNb1nzm3siWAQamj0AytlqvoTMbCayEQDLWWq6h+/Rs5PVrHxWApQgkY631Gro6G3nrqNURK3AnAsnYa72Gbv/B+U9e2BFJYCkCyURouWHn9tlIx6zAUgSSidDVbOTixXZbe4DpIpBMjDob2XIN3b7eUes7vc84ARKBZGK0no2sL+zs6P0ASASSiVKPWk+/9F5ppS4QAEgEkolz7Mhlb58CnRNIJk6NY8vZSIBEIJlIrWcjAT5NIJlYLdfQAXzafYUVWT93b9m194tlx851Zdv2+z9Zfl0Hzs+/8c/+arQ/vfxu7+nm/UK36te6zkbudyEy0AGBXKYaxnobxJ7Hv9z/8/TX69hA+VYpux/b+PEO0aOL5fTL7d645LPq13jn7rneb1bWFoCWHLEuQ31K/PWLX/vvDs/lfcnq+MCTv9xSFg5tLnSrvtUK0JonyLuocXz6+LaB5+XqSrP6dHPkx3/1eVlHbq2h+/SFyCxt/YbPTeTdmPXXkP25DItA3sFq43hLPXpdOLy5/OanFwvd6B+1PvpA77/Z5wt3t+0ba8tzr369TJr637nl4nq4E0esd1B3dbbatLJ770ZPOB1qvYYOQCCXUHd01pdtWrr9HkLaq0etZ05dLQAtCOQS9vzgwdJajeOux75Q6I41dEArArmERx6dK134ptsjOtUfr7GGDmhAIIMur0Da+o37C92yhg5oQSCDLj8ndL3ScNQ1dACrIZDB+g2+LJPu401GjlqBwSlBUL+5MvlOPn+lLF66UQAGIZDBOxe7+6Z6/s0PCsNhNhJYDYEMFi992P/RhXNnvDwyTLfW0AGslEAu4fRL3dzC8coLVwrDVdeTmY0EVkogl1A/v2r9TbVG1+ebw+eoFRiEQC6h9TfV+rLIid8tFkajrqAzGwmshEDeQf2m2mJUoMa2Xnfl6XG06myko1ZguQTyLlZ7vU59cnxq4UI5/4a3V0fNGjpgJdwHuQw1kosXb5T9P9q0ovsG6xuUz/aeWrp8cnzl91fKugaLDWYl4HUN3T29P65rvAxiGJf4njv7filHZ/uYvv81GGP1PYPXGx3lj/u/6yy453s7zt0sLNuuvRvLrsc2Lrl0vB7hnXntajn18j+a/UIBYOhuCuSA1s/dW7Zuv7+/t7WupqtPiXXBQFfzkwAM1U1HrAOqR2qeEAGml5d0ACAQSAAIBBIAAoEEgEAgASAQSAAIBBIAAoEEgEAgASAQSAAIBBIAAoEEgEAgASAQSAAIBBIAAoEEgEAgASAQSAAIBBIAAoEEgEAgASAQSAAIBBIAAoEEgEAgASAQSAAIBBIAAoEEgEAgASAQSAAIBBIAAoEEgEAgASAQSAAIBBIAAoEEgEAgASAQSAAIBBIAAoEEgEAgASAQSAAIBBIAAoEEgEAgASAQSAAIBBIAAoEEgEAgASAQSAAIBBIAAoEEgEAgASAQSAAIBBIAAoEEgEAgASAQSAAIBBIAAoEEgEAgASAQSAAIBBIAAoEEgEAgASAQSAAIBBIAAoEEgEAgASAQSAAIBBIAAoEEgEAgASAQSAAIBBIAAoEEgEAgASAQSAAIBBIAAoEEgEAgASAQSAAIBBIAAoEEgEAgASAQSAAIBBIAAoEEgEAgASAQSAAIBBIAAoEEgEAgASAQSAAIBBIAAoEEgEAgASAQSAAIBBIAAoEEgEAgASAQSAAIBBIAAoEEgEAgASAQSAAIBBIAAoEEgEAgASAQSAAIBBIAAoEEgEAgASAQSAAIBBIAAoEEgEAgASAQSAAIBBIAAoEEgEAgASAQSAAIBBIAAoEEgEAgASAQSAAIBBIAAoEEgEAgASAQSAAIBBIAAoEEgEAgASAQSAAIBBIAAoEEgEAgASAQSAAIBBIAAoEEgEAgASAQSAAIBBIAAoEEgEAgASAQSAAIBBIAAoEEgEAgASAQSAAIBBIAAoEEgEAgASAQSAAIBBIAAoEEgEAgASAQSAAIBBIAAoEEgEAgASAQSAAI7uv9uFkAgNvd/A8A1U9HVwv36gAAAABJRU5ErkJggg==\" width=\"125em\"></img></td><td style=\"line-height:.8em\"><p style=\"font-size:1.5em\"><b>.NET Interactive</b></p><p>&#169; 2020 Microsoft Corporation</p><p><b>Version: </b>1.0.522904+cdfa48b2ea1a27dfe0f545c42a34fd3ec7119074</p><p><b>Library version: </b>1.0.0-beta.24229.4+cdfa48b2ea1a27dfe0f545c42a34fd3ec7119074</p><p><b>Build date: </b>2024-10-05T01:28:30.3244930Z</p><p><a href=\"https://github.com/dotnet/interactive\">https://github.com/dotnet/interactive</a></p></td></tr></tbody></table>"
      ]
     },
     "metadata": {},
     "output_type": "display_data"
    }
   ],
   "source": [
    "#!about"
   ]
  },
  {
   "cell_type": "code",
   "execution_count": 2,
   "metadata": {
    "dotnet_interactive": {
     "language": "fsharp"
    },
    "polyglot_notebook": {
     "kernelName": "fsharp"
    }
   },
   "outputs": [
    {
     "data": {
      "text/html": [
       "<div><div></div><div></div><div><strong>Installed Packages</strong><ul><li><span>ScottPlot, 5.0.39</span></li></ul></div></div>"
      ]
     },
     "metadata": {},
     "output_type": "display_data"
    },
    {
     "data": {
      "text/plain": [
       "Loading extensions from `C:\\Users\\0\\.nuget\\packages\\skiasharp\\2.88.8\\interactive-extensions\\dotnet\\SkiaSharp.DotNet.Interactive.dll`"
      ]
     },
     "metadata": {},
     "output_type": "display_data"
    }
   ],
   "source": [
    "// Install the ScottPlot NuGet package\n",
    "#r \"nuget:ScottPlot, 5.0.*\"\n",
    "open ScottPlot"
   ]
  },
  {
   "cell_type": "code",
   "execution_count": 3,
   "metadata": {
    "dotnet_interactive": {
     "language": "fsharp"
    },
    "polyglot_notebook": {
     "kernelName": "fsharp"
    }
   },
   "outputs": [],
   "source": [
    "open Microsoft.DotNet.Interactive.Formatting\n",
    "open ScottPlot\n",
    "open System.IO\n",
    "\n",
    "Formatter.Register<Plot>(\n",
    "    (fun (p: Plot) (w: TextWriter) -> \n",
    "        w.Write(p.GetImageHtml(400, 300))), \n",
    "    HtmlFormatter.MimeType\n",
    ")"
   ]
  },
  {
   "cell_type": "markdown",
   "metadata": {},
   "source": [
    "Source: https://scottplot.net/cookbook/5.0/Box/"
   ]
  },
  {
   "cell_type": "markdown",
   "metadata": {},
   "source": [
    "# Box Plot"
   ]
  },
  {
   "cell_type": "markdown",
   "metadata": {},
   "source": [
    "## Box Plot Quickstart\n",
    "\n",
    "Box plots can be created individually and added to the plot."
   ]
  },
  {
   "cell_type": "code",
   "execution_count": 4,
   "metadata": {
    "dotnet_interactive": {
     "language": "fsharp"
    },
    "polyglot_notebook": {
     "kernelName": "fsharp"
    }
   },
   "outputs": [
    {
     "data": {
      "text/html": [
       "<img src=\"data:image/png;base64,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\"></img>"
      ]
     },
     "metadata": {},
     "output_type": "display_data"
    }
   ],
   "source": [
    "open System\n",
    "open ScottPlot\n",
    "\n",
    "// Create a new plot\n",
    "let myPlot = new Plot()\n",
    "\n",
    "// Define the box plot properties\n",
    "let box = Box(\n",
    "    Position = 5.0,\n",
    "    BoxMin = 81.0,\n",
    "    BoxMax = 93.0,\n",
    "    WhiskerMin = 76.0,\n",
    "    WhiskerMax = 107.0,\n",
    "    BoxMiddle = 84.0\n",
    ")\n",
    "\n",
    "// Add the box plot to the plot\n",
    "myPlot.Add.Box(box)\n",
    "\n",
    "// Set the limits of the axes\n",
    "myPlot.Axes.SetLimits(0.0, 10.0, 70.0, 110.0)\n",
    "\n",
    "myPlot"
   ]
  },
  {
   "cell_type": "markdown",
   "metadata": {},
   "source": [
    "## Box Plot Groups\n",
    "\n",
    "Each collection of boxes added to the plot gets styled the same and appears as a single item in the legend. Add multiple bar series plots with defined X positions to give the appearance of grouped data."
   ]
  },
  {
   "cell_type": "code",
   "execution_count": 6,
   "metadata": {
    "dotnet_interactive": {
     "language": "fsharp"
    },
    "polyglot_notebook": {
     "kernelName": "fsharp"
    }
   },
   "outputs": [
    {
     "data": {
      "text/html": [
       "<img src=\"data:image/png;base64,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\"></img>"
      ]
     },
     "metadata": {},
     "output_type": "display_data"
    }
   ],
   "source": [
    "open System\n",
    "open System.Collections.Generic\n",
    "open ScottPlot\n",
    "\n",
    "// Create a new plot\n",
    "let myPlot = new Plot()\n",
    "\n",
    "// Generate random boxes for two groups\n",
    "let boxes1 = List<Box> [\n",
    "    Generate.RandomBox(1)\n",
    "    Generate.RandomBox(2)\n",
    "    Generate.RandomBox(3)\n",
    "]\n",
    "\n",
    "let boxes2 = List<Box> [\n",
    "    Generate.RandomBox(5)\n",
    "    Generate.RandomBox(6)\n",
    "    Generate.RandomBox(7)\n",
    "]\n",
    "\n",
    "// Add the first group of boxes\n",
    "let bp1 = myPlot.Add.Boxes(boxes1)\n",
    "bp1.LegendText <- \"Group 1\"\n",
    "\n",
    "// Add the second group of boxes\n",
    "let bp2 = myPlot.Add.Boxes(boxes2)\n",
    "bp2.LegendText <- \"Group 2\"\n",
    "\n",
    "// Show the legend\n",
    "myPlot.ShowLegend(Alignment.UpperRight)\n",
    "\n",
    "myPlot"
   ]
  }
 ],
 "metadata": {
  "kernelspec": {
   "display_name": ".NET (C#)",
   "language": "C#",
   "name": ".net-csharp"
  },
  "polyglot_notebook": {
   "kernelInfo": {
    "defaultKernelName": "csharp",
    "items": [
     {
      "aliases": [],
      "name": "csharp"
     },
     {
      "aliases": [],
      "languageName": "fsharp",
      "name": "fsharp"
     }
    ]
   }
  }
 },
 "nbformat": 4,
 "nbformat_minor": 2
}
