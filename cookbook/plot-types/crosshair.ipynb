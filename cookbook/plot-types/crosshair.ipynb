{
 "cells": [
  {
   "cell_type": "code",
   "execution_count": 1,
   "metadata": {
    "dotnet_interactive": {
     "language": "fsharp"
    },
    "polyglot_notebook": {
     "kernelName": "fsharp"
    }
   },
   "outputs": [],
   "source": [
    "#!about"
   ]
  },
  {
   "cell_type": "code",
   "execution_count": 2,
   "metadata": {
    "dotnet_interactive": {
     "language": "fsharp"
    },
    "polyglot_notebook": {
     "kernelName": "fsharp"
    }
   },
   "outputs": [],
   "source": [
    "// Install the ScottPlot NuGet package\n",
    "#r \"nuget:ScottPlot, 5.0.*\"\n",
    "open ScottPlot"
   ]
  },
  {
   "cell_type": "code",
   "execution_count": 3,
   "metadata": {
    "dotnet_interactive": {
     "language": "fsharp"
    },
    "polyglot_notebook": {
     "kernelName": "fsharp"
    }
   },
   "outputs": [],
   "source": [
    "open Microsoft.DotNet.Interactive.Formatting\n",
    "open ScottPlot\n",
    "open System.IO\n",
    "\n",
    "Formatter.Register<Plot>(\n",
    "    (fun (p: Plot) (w: TextWriter) -> \n",
    "        w.Write(p.GetImageHtml(400, 300))), \n",
    "    HtmlFormatter.MimeType\n",
    ")"
   ]
  },
  {
   "cell_type": "markdown",
   "metadata": {},
   "source": [
    "Source: https://scottplot.net/cookbook/5.0/Crosshair/"
   ]
  },
  {
   "cell_type": "markdown",
   "metadata": {},
   "source": [
    "# Crosshair"
   ]
  },
  {
   "cell_type": "markdown",
   "metadata": {},
   "source": [
    "## Crosshair Quickstart\n",
    "\n",
    "A Crosshair combines a horizontal axis line and vertical axis line to mark a location in coordinate space."
   ]
  },
  {
   "cell_type": "code",
   "execution_count": 6,
   "metadata": {
    "dotnet_interactive": {
     "language": "fsharp"
    },
    "polyglot_notebook": {
     "kernelName": "fsharp"
    }
   },
   "outputs": [],
   "source": [
    "open ScottPlot\n",
    "\n",
    "let myPlot = Plot()\n",
    "\n",
    "// Add sine and cosine signals\n",
    "myPlot.Add.Signal(Generate.Sin())\n",
    "myPlot.Add.Signal(Generate.Cos())\n",
    "\n",
    "// Add a crosshair at the specified coordinates\n",
    "myPlot.Add.Crosshair(13.0, 0.25)\n",
    "\n",
    "// Optional: Customize crosshair appearance\n",
    "let crosshair = myPlot.Crosshair\n",
    "crosshair.LineColor <- Colors.Red\n",
    "crosshair.LineWidth <- 1.5\n",
    "\n",
    "// Optional: Set the axes limits if needed\n",
    "myPlot.Axes.SetLimits(0.0, 20.0, -1.5, 1.5)"
   ]
  }
 ],
 "metadata": {
  "kernelspec": {
   "display_name": ".NET (F#)",
   "language": "F#",
   "name": ".net-fsharp"
  },
  "polyglot_notebook": {
   "kernelInfo": {
    "defaultKernelName": "fsharp",
    "items": [
     {
      "aliases": [],
      "languageName": "fsharp",
      "name": "fsharp"
     }
    ]
   }
  }
 },
 "nbformat": 4,
 "nbformat_minor": 2
}
