{
 "cells": [
  {
   "cell_type": "code",
   "execution_count": 2,
   "metadata": {
    "dotnet_interactive": {
     "language": "fsharp"
    },
    "polyglot_notebook": {
     "kernelName": "fsharp"
    }
   },
   "outputs": [
    {
     "data": {
      "text/html": [
       "<table><tbody><tr><td><img src=\"data:image/png;base64, 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\" width=\"125em\"></img></td><td style=\"line-height:.8em\"><p style=\"font-size:1.5em\"><b>.NET Interactive</b></p><p>&#169; 2020 Microsoft Corporation</p><p><b>Version: </b>1.0.522904+cdfa48b2ea1a27dfe0f545c42a34fd3ec7119074</p><p><b>Library version: </b>1.0.0-beta.24229.4+cdfa48b2ea1a27dfe0f545c42a34fd3ec7119074</p><p><b>Build date: </b>2024-10-05T01:28:30.3244930Z</p><p><a href=\"https://github.com/dotnet/interactive\">https://github.com/dotnet/interactive</a></p></td></tr></tbody></table>"
      ]
     },
     "metadata": {},
     "output_type": "display_data"
    }
   ],
   "source": [
    "#!about"
   ]
  },
  {
   "cell_type": "code",
   "execution_count": 3,
   "metadata": {
    "dotnet_interactive": {
     "language": "fsharp"
    },
    "polyglot_notebook": {
     "kernelName": "fsharp"
    }
   },
   "outputs": [
    {
     "data": {
      "text/html": [
       "<div><div></div><div></div><div><strong>Installed Packages</strong><ul><li><span>ScottPlot, 5.0.39</span></li></ul></div></div>"
      ]
     },
     "metadata": {},
     "output_type": "display_data"
    },
    {
     "data": {
      "text/plain": [
       "Loading extensions from `C:\\Users\\0\\.nuget\\packages\\skiasharp\\2.88.8\\interactive-extensions\\dotnet\\SkiaSharp.DotNet.Interactive.dll`"
      ]
     },
     "metadata": {},
     "output_type": "display_data"
    }
   ],
   "source": [
    "// Install the ScottPlot NuGet package\n",
    "#r \"nuget:ScottPlot, 5.0.*\"\n",
    "open ScottPlot"
   ]
  },
  {
   "cell_type": "code",
   "execution_count": 4,
   "metadata": {
    "dotnet_interactive": {
     "language": "fsharp"
    },
    "polyglot_notebook": {
     "kernelName": "fsharp"
    }
   },
   "outputs": [],
   "source": [
    "open Microsoft.DotNet.Interactive.Formatting\n",
    "open ScottPlot\n",
    "open System.IO\n",
    "\n",
    "Formatter.Register<Plot>(\n",
    "    (fun (p: Plot) (w: TextWriter) -> \n",
    "        w.Write(p.GetImageHtml(400, 300))), \n",
    "    HtmlFormatter.MimeType\n",
    ")"
   ]
  },
  {
   "cell_type": "markdown",
   "metadata": {},
   "source": [
    "Source: https://scottplot.net/cookbook/5.0/palettes/"
   ]
  },
  {
   "cell_type": "code",
   "execution_count": null,
   "metadata": {},
   "outputs": [],
   "source": [
    "# ScottPlot 5.0 Color Palettes"
   ]
  },
  {
   "cell_type": "markdown",
   "metadata": {},
   "source": [
    "## Category 10\n",
    "\n",
    "A set of 10 unque colors used in many data visualization libraries such as Matplotlib, Vega, and Tableau"
   ]
  },
  {
   "cell_type": "code",
   "execution_count": 15,
   "metadata": {
    "dotnet_interactive": {
     "language": "fsharp"
    },
    "polyglot_notebook": {
     "kernelName": "fsharp"
    }
   },
   "outputs": [],
   "source": [
    "// Create an instance of the Category10 palette\n",
    "let palette = Category10()\n",
    "let color = palette.GetColor(0) // Get a color from the palette"
   ]
  },
  {
   "cell_type": "code",
   "execution_count": 71,
   "metadata": {
    "dotnet_interactive": {
     "language": "html"
    },
    "polyglot_notebook": {
     "kernelName": "html"
    }
   },
   "outputs": [
    {
     "data": {
      "text/html": [
       "<div style='background-color: #1F77B4; color: white; padding: .5rem 1rem; font-weight: 600'>palette.GetColor(0) returns #1F77B4</div>\r\n",
       "<div style='background-color: #FF7F0E; color: black; padding: .5rem 1rem; font-weight: 600'>palette.GetColor(1) returns #FF7F0E</div>\r\n",
       "<div style='background-color: #2CA02C; color: white; padding: .5rem 1rem; font-weight: 600'>palette.GetColor(2) returns #2CA02C</div>\r\n",
       "<div style='background-color: #D62728; color: white; padding: .5rem 1rem; font-weight: 600'>palette.GetColor(3) returns #D62728</div>\r\n",
       "<div style='background-color: #9467BD; color: black; padding: .5rem 1rem; font-weight: 600'>palette.GetColor(4) returns #9467BD</div>\r\n",
       "<div style='background-color: #8C564B; color: white; padding: .5rem 1rem; font-weight: 600'>palette.GetColor(5) returns #8C564B</div>\r\n",
       "<div style='background-color: #E377C2; color: black; padding: .5rem 1rem; font-weight: 600'>palette.GetColor(6) returns #E377C2</div>\r\n",
       "<div style='background-color: #7F7F7F; color: white; padding: .5rem 1rem; font-weight: 600'>palette.GetColor(7) returns #7F7F7F</div>\r\n",
       "<div style='background-color: #BCBD22; color: white; padding: .5rem 1rem; font-weight: 600'>palette.GetColor(8) returns #BCBD22</div>\r\n",
       "<div style='background-color: #17BECF; color: white; padding: .5rem 1rem; font-weight: 600'>palette.GetColor(9) returns #17BECF</div>"
      ]
     },
     "metadata": {},
     "output_type": "display_data"
    }
   ],
   "source": [
    "<div style='background-color: #1F77B4; color: white; padding: .5rem 1rem; font-weight: 600'>palette.GetColor(0) returns #1F77B4</div>\n",
    "<div style='background-color: #FF7F0E; color: black; padding: .5rem 1rem; font-weight: 600'>palette.GetColor(1) returns #FF7F0E</div>\n",
    "<div style='background-color: #2CA02C; color: white; padding: .5rem 1rem; font-weight: 600'>palette.GetColor(2) returns #2CA02C</div>\n",
    "<div style='background-color: #D62728; color: white; padding: .5rem 1rem; font-weight: 600'>palette.GetColor(3) returns #D62728</div>\n",
    "<div style='background-color: #9467BD; color: black; padding: .5rem 1rem; font-weight: 600'>palette.GetColor(4) returns #9467BD</div>\n",
    "<div style='background-color: #8C564B; color: white; padding: .5rem 1rem; font-weight: 600'>palette.GetColor(5) returns #8C564B</div>\n",
    "<div style='background-color: #E377C2; color: black; padding: .5rem 1rem; font-weight: 600'>palette.GetColor(6) returns #E377C2</div>\n",
    "<div style='background-color: #7F7F7F; color: white; padding: .5rem 1rem; font-weight: 600'>palette.GetColor(7) returns #7F7F7F</div>\n",
    "<div style='background-color: #BCBD22; color: white; padding: .5rem 1rem; font-weight: 600'>palette.GetColor(8) returns #BCBD22</div>\n",
    "<div style='background-color: #17BECF; color: white; padding: .5rem 1rem; font-weight: 600'>palette.GetColor(9) returns #17BECF</div>"
   ]
  },
  {
   "cell_type": "markdown",
   "metadata": {},
   "source": [
    "## Category 20\n",
    "\n",
    "A set of 20 unque colors used in many data visualization libraries such as Matplotlib, Vega, and Tableau"
   ]
  },
  {
   "cell_type": "code",
   "execution_count": 69,
   "metadata": {
    "dotnet_interactive": {
     "language": "fsharp"
    },
    "polyglot_notebook": {
     "kernelName": "fsharp"
    }
   },
   "outputs": [],
   "source": [
    "// Create an instance of the Category20 palette\n",
    "let palette = Category20()\n",
    "let color = palette.GetColor(0) // Get a color from the palette"
   ]
  },
  {
   "cell_type": "code",
   "execution_count": 70,
   "metadata": {
    "dotnet_interactive": {
     "language": "html"
    },
    "polyglot_notebook": {
     "kernelName": "html"
    }
   },
   "outputs": [
    {
     "data": {
      "text/html": [
       "<div style='background-color: #1F77B4; color: white; padding: .5rem 1rem; font-weight: 600'>palette.GetColor(0) returns #1F77B4</div>\r\n",
       "<div style='background-color: #AEC7E8; color: black; padding: .5rem 1rem; font-weight: 600'>palette.GetColor(1) returns #AEC7E8</div>\r\n",
       "<div style='background-color: #FF7F0E; color: black; padding: .5rem 1rem; font-weight: 600'>palette.GetColor(2) returns #FF7F0E</div>\r\n",
       "<div style='background-color: #FFBB78; color: black; padding: .5rem 1rem; font-weight: 600'>palette.GetColor(3) returns #FFBB78</div>\r\n",
       "<div style='background-color: #2CA02C; color: white; padding: .5rem 1rem; font-weight: 600'>palette.GetColor(4) returns #2CA02C</div>\r\n",
       "<div style='background-color: #98DF8A; color: black; padding: .5rem 1rem; font-weight: 600'>palette.GetColor(5) returns #98DF8A</div>\r\n",
       "<div style='background-color: #D62728; color: white; padding: .5rem 1rem; font-weight: 600'>palette.GetColor(6) returns #D62728</div>\r\n",
       "<div style='background-color: #FF9896; color: black; padding: .5rem 1rem; font-weight: 600'>palette.GetColor(7) returns #FF9896</div>\r\n",
       "<div style='background-color: #9467BD; color: black; padding: .5rem 1rem; font-weight: 600'>palette.GetColor(8) returns #9467BD</div>\r\n",
       "<div style='background-color: #C5B0D5; color: black; padding: .5rem 1rem; font-weight: 600'>palette.GetColor(9) returns #C5B0D5</div>\r\n",
       "<div style='background-color: #8C564B; color: white; padding: .5rem 1rem; font-weight: 600'>palette.GetColor(10) returns #8C564B</div>\r\n",
       "<div style='background-color: #C49C94; color: black; padding: .5rem 1rem; font-weight: 600'>palette.GetColor(11) returns #C49C94</div>\r\n",
       "<div style='background-color: #E377C2; color: black; padding: .5rem 1rem; font-weight: 600'>palette.GetColor(12) returns #E377C2</div>\r\n",
       "<div style='background-color: #F7B6D2; color: black; padding: .5rem 1rem; font-weight: 600'>palette.GetColor(13) returns #F7B6D2</div>\r\n",
       "<div style='background-color: #7F7F7F; color: white; padding: .5rem 1rem; font-weight: 600'>palette.GetColor(14) returns #7F7F7F</div>\r\n",
       "<div style='background-color: #C7C7C7; color: black; padding: .5rem 1rem; font-weight: 600'>palette.GetColor(15) returns #C7C7C7</div>\r\n",
       "<div style='background-color: #BCBD22; color: white; padding: .5rem 1rem; font-weight: 600'>palette.GetColor(16) returns #BCBD22</div>\r\n",
       "<div style='background-color: #DBDB8D; color: black; padding: .5rem 1rem; font-weight: 600'>palette.GetColor(17) returns #DBDB8D</div>\r\n",
       "<div style='background-color: #17BECF; color: white; padding: .5rem 1rem; font-weight: 600'>palette.GetColor(18) returns #17BECF</div>\r\n",
       "<div style='background-color: #9EDAE5; color: black; padding: .5rem 1rem; font-weight: 600'>palette.GetColor(19) returns #9EDAE5</div>"
      ]
     },
     "metadata": {},
     "output_type": "display_data"
    }
   ],
   "source": [
    "<div style='background-color: #1F77B4; color: white; padding: .5rem 1rem; font-weight: 600'>palette.GetColor(0) returns #1F77B4</div>\n",
    "<div style='background-color: #AEC7E8; color: black; padding: .5rem 1rem; font-weight: 600'>palette.GetColor(1) returns #AEC7E8</div>\n",
    "<div style='background-color: #FF7F0E; color: black; padding: .5rem 1rem; font-weight: 600'>palette.GetColor(2) returns #FF7F0E</div>\n",
    "<div style='background-color: #FFBB78; color: black; padding: .5rem 1rem; font-weight: 600'>palette.GetColor(3) returns #FFBB78</div>\n",
    "<div style='background-color: #2CA02C; color: white; padding: .5rem 1rem; font-weight: 600'>palette.GetColor(4) returns #2CA02C</div>\n",
    "<div style='background-color: #98DF8A; color: black; padding: .5rem 1rem; font-weight: 600'>palette.GetColor(5) returns #98DF8A</div>\n",
    "<div style='background-color: #D62728; color: white; padding: .5rem 1rem; font-weight: 600'>palette.GetColor(6) returns #D62728</div>\n",
    "<div style='background-color: #FF9896; color: black; padding: .5rem 1rem; font-weight: 600'>palette.GetColor(7) returns #FF9896</div>\n",
    "<div style='background-color: #9467BD; color: black; padding: .5rem 1rem; font-weight: 600'>palette.GetColor(8) returns #9467BD</div>\n",
    "<div style='background-color: #C5B0D5; color: black; padding: .5rem 1rem; font-weight: 600'>palette.GetColor(9) returns #C5B0D5</div>\n",
    "<div style='background-color: #8C564B; color: white; padding: .5rem 1rem; font-weight: 600'>palette.GetColor(10) returns #8C564B</div>\n",
    "<div style='background-color: #C49C94; color: black; padding: .5rem 1rem; font-weight: 600'>palette.GetColor(11) returns #C49C94</div>\n",
    "<div style='background-color: #E377C2; color: black; padding: .5rem 1rem; font-weight: 600'>palette.GetColor(12) returns #E377C2</div>\n",
    "<div style='background-color: #F7B6D2; color: black; padding: .5rem 1rem; font-weight: 600'>palette.GetColor(13) returns #F7B6D2</div>\n",
    "<div style='background-color: #7F7F7F; color: white; padding: .5rem 1rem; font-weight: 600'>palette.GetColor(14) returns #7F7F7F</div>\n",
    "<div style='background-color: #C7C7C7; color: black; padding: .5rem 1rem; font-weight: 600'>palette.GetColor(15) returns #C7C7C7</div>\n",
    "<div style='background-color: #BCBD22; color: white; padding: .5rem 1rem; font-weight: 600'>palette.GetColor(16) returns #BCBD22</div>\n",
    "<div style='background-color: #DBDB8D; color: black; padding: .5rem 1rem; font-weight: 600'>palette.GetColor(17) returns #DBDB8D</div>\n",
    "<div style='background-color: #17BECF; color: white; padding: .5rem 1rem; font-weight: 600'>palette.GetColor(18) returns #17BECF</div>\n",
    "<div style='background-color: #9EDAE5; color: black; padding: .5rem 1rem; font-weight: 600'>palette.GetColor(19) returns #9EDAE5</div>"
   ]
  },
  {
   "cell_type": "markdown",
   "metadata": {},
   "source": [
    "## Amber"
   ]
  },
  {
   "cell_type": "code",
   "execution_count": 67,
   "metadata": {
    "dotnet_interactive": {
     "language": "fsharp"
    },
    "polyglot_notebook": {
     "kernelName": "fsharp"
    }
   },
   "outputs": [],
   "source": [
    "// Create an instance of the Amber palette\n",
    "let palette = Amber()\n",
    "let color = palette.GetColor(0) // Get a color from the palette"
   ]
  },
  {
   "cell_type": "code",
   "execution_count": 68,
   "metadata": {
    "dotnet_interactive": {
     "language": "html"
    },
    "polyglot_notebook": {
     "kernelName": "html"
    }
   },
   "outputs": [
    {
     "data": {
      "text/html": [
       "<div style='background-color: #FF6F00; color: white; padding: .5rem 1rem; font-weight: 600'>palette.GetColor(0) returns #FF6F00</div>\r\n",
       "<div style='background-color: #FF8F00; color: white; padding: .5rem 1rem; font-weight: 600'>palette.GetColor(1) returns #FF8F00</div>\r\n",
       "<div style='background-color: #FFA000; color: white; padding: .5rem 1rem; font-weight: 600'>palette.GetColor(2) returns #FFA000</div>\r\n",
       "<div style='background-color: #FFB300; color: white; padding: .5rem 1rem; font-weight: 600'>palette.GetColor(3) returns #FFB300</div>\r\n",
       "<div style='background-color: #FFC107; color: black; padding: .5rem 1rem; font-weight: 600'>palette.GetColor(4) returns #FFC107</div>"
      ]
     },
     "metadata": {},
     "output_type": "display_data"
    }
   ],
   "source": [
    "<div style='background-color: #FF6F00; color: white; padding: .5rem 1rem; font-weight: 600'>palette.GetColor(0) returns #FF6F00</div>\n",
    "<div style='background-color: #FF8F00; color: white; padding: .5rem 1rem; font-weight: 600'>palette.GetColor(1) returns #FF8F00</div>\n",
    "<div style='background-color: #FFA000; color: white; padding: .5rem 1rem; font-weight: 600'>palette.GetColor(2) returns #FFA000</div>\n",
    "<div style='background-color: #FFB300; color: white; padding: .5rem 1rem; font-weight: 600'>palette.GetColor(3) returns #FFB300</div>\n",
    "<div style='background-color: #FFC107; color: black; padding: .5rem 1rem; font-weight: 600'>palette.GetColor(4) returns #FFC107</div>"
   ]
  },
  {
   "cell_type": "markdown",
   "metadata": {},
   "source": [
    "## Aurora\n",
    "\n",
    "From the Nord collection of palettes: https://github.com/arcticicestudio/nord"
   ]
  },
  {
   "cell_type": "code",
   "execution_count": 66,
   "metadata": {
    "dotnet_interactive": {
     "language": "fsharp"
    },
    "polyglot_notebook": {
     "kernelName": "fsharp"
    }
   },
   "outputs": [],
   "source": [
    "// Create an instance of the Aurora palette\n",
    "let palette = Aurora()\n",
    "let color = palette.GetColor(0) // Get a color from the palette"
   ]
  },
  {
   "cell_type": "code",
   "execution_count": 65,
   "metadata": {
    "dotnet_interactive": {
     "language": "html"
    },
    "polyglot_notebook": {
     "kernelName": "html"
    }
   },
   "outputs": [
    {
     "data": {
      "text/html": [
       "<div style='background-color: #BF616A; color: black; padding: .5rem 1rem; font-weight: 600'>palette.GetColor(0) returns #BF616A</div>\r\n",
       "<div style='background-color: #D08770; color: black; padding: .5rem 1rem; font-weight: 600'>palette.GetColor(1) returns #D08770</div>\r\n",
       "<div style='background-color: #EBCB8B; color: black; padding: .5rem 1rem; font-weight: 600'>palette.GetColor(2) returns #EBCB8B</div>\r\n",
       "<div style='background-color: #A3BE8C; color: black; padding: .5rem 1rem; font-weight: 600'>palette.GetColor(3) returns #A3BE8C</div>\r\n",
       "<div style='background-color: #B48EAD; color: black; padding: .5rem 1rem; font-weight: 600'>palette.GetColor(4) returns #B48EAD</div>"
      ]
     },
     "metadata": {},
     "output_type": "display_data"
    }
   ],
   "source": [
    "<div style='background-color: #BF616A; color: black; padding: .5rem 1rem; font-weight: 600'>palette.GetColor(0) returns #BF616A</div>\n",
    "<div style='background-color: #D08770; color: black; padding: .5rem 1rem; font-weight: 600'>palette.GetColor(1) returns #D08770</div>\n",
    "<div style='background-color: #EBCB8B; color: black; padding: .5rem 1rem; font-weight: 600'>palette.GetColor(2) returns #EBCB8B</div>\n",
    "<div style='background-color: #A3BE8C; color: black; padding: .5rem 1rem; font-weight: 600'>palette.GetColor(3) returns #A3BE8C</div>\n",
    "<div style='background-color: #B48EAD; color: black; padding: .5rem 1rem; font-weight: 600'>palette.GetColor(4) returns #B48EAD</div>"
   ]
  },
  {
   "cell_type": "markdown",
   "metadata": {},
   "source": [
    "## Building"
   ]
  },
  {
   "cell_type": "code",
   "execution_count": 62,
   "metadata": {
    "dotnet_interactive": {
     "language": "fsharp"
    },
    "polyglot_notebook": {
     "kernelName": "fsharp"
    }
   },
   "outputs": [],
   "source": [
    "// Create an instance of the Building palette\n",
    "let palette = Building()\n",
    "let color = palette.GetColor(0) // Get a color from the palette"
   ]
  },
  {
   "cell_type": "code",
   "execution_count": 63,
   "metadata": {
    "dotnet_interactive": {
     "language": "html"
    },
    "polyglot_notebook": {
     "kernelName": "html"
    }
   },
   "outputs": [
    {
     "data": {
      "text/html": [
       "<div style='background-color: #FF6F00; color: white; padding: .5rem 1rem; font-weight: 600'>palette.GetColor(0) returns #FF6F00</div>\r\n",
       "<div style='background-color: #FF8F00; color: white; padding: .5rem 1rem; font-weight: 600'>palette.GetColor(1) returns #FF8F00</div>\r\n",
       "<div style='background-color: #FFA000; color: white; padding: .5rem 1rem; font-weight: 600'>palette.GetColor(2) returns #FFA000</div>\r\n",
       "<div style='background-color: #FFB300; color: white; padding: .5rem 1rem; font-weight: 600'>palette.GetColor(3) returns #FFB300</div>\r\n",
       "<div style='background-color: #FFC107; color: black; padding: .5rem 1rem; font-weight: 600'>palette.GetColor(4) returns #FFC107</div>"
      ]
     },
     "metadata": {},
     "output_type": "display_data"
    }
   ],
   "source": [
    "<div style='background-color: #FF6F00; color: white; padding: .5rem 1rem; font-weight: 600'>palette.GetColor(0) returns #FF6F00</div>\n",
    "<div style='background-color: #FF8F00; color: white; padding: .5rem 1rem; font-weight: 600'>palette.GetColor(1) returns #FF8F00</div>\n",
    "<div style='background-color: #FFA000; color: white; padding: .5rem 1rem; font-weight: 600'>palette.GetColor(2) returns #FFA000</div>\n",
    "<div style='background-color: #FFB300; color: white; padding: .5rem 1rem; font-weight: 600'>palette.GetColor(3) returns #FFB300</div>\n",
    "<div style='background-color: #FFC107; color: black; padding: .5rem 1rem; font-weight: 600'>palette.GetColor(4) returns #FFC107</div>"
   ]
  },
  {
   "cell_type": "markdown",
   "metadata": {},
   "source": [
    "## Colorblind Friendly\n",
    "\n",
    "A set of 8 colorblind-friendly colors from Bang Wong’s Nature Methods paper https://www.nature.com/articles/nmeth.1618.pdf"
   ]
  },
  {
   "cell_type": "code",
   "execution_count": 60,
   "metadata": {
    "dotnet_interactive": {
     "language": "fsharp"
    },
    "polyglot_notebook": {
     "kernelName": "fsharp"
    }
   },
   "outputs": [],
   "source": [
    "// Create an instance of the ColorblindFriendly palette\n",
    "let palette = ColorblindFriendly()\n",
    "let color = palette.GetColor(0) // Get a color from the palette"
   ]
  },
  {
   "cell_type": "code",
   "execution_count": 61,
   "metadata": {
    "dotnet_interactive": {
     "language": "html"
    },
    "polyglot_notebook": {
     "kernelName": "html"
    }
   },
   "outputs": [
    {
     "data": {
      "text/html": [
       "<div style='background-color: #000000; color: white; padding: .5rem 1rem; font-weight: 600'>palette.GetColor(0) returns #000000</div>\r\n",
       "<div style='background-color: #E69F00; color: white; padding: .5rem 1rem; font-weight: 600'>palette.GetColor(1) returns #E69F00</div>\r\n",
       "<div style='background-color: #56B4E9; color: black; padding: .5rem 1rem; font-weight: 600'>palette.GetColor(2) returns #56B4E9</div>\r\n",
       "<div style='background-color: #009E73; color: white; padding: .5rem 1rem; font-weight: 600'>palette.GetColor(3) returns #009E73</div>\r\n",
       "<div style='background-color: #F0E442; color: black; padding: .5rem 1rem; font-weight: 600'>palette.GetColor(4) returns #F0E442</div>\r\n",
       "<div style='background-color: #0072B2; color: white; padding: .5rem 1rem; font-weight: 600'>palette.GetColor(5) returns #0072B2</div>\r\n",
       "<div style='background-color: #D55E00; color: white; padding: .5rem 1rem; font-weight: 600'>palette.GetColor(6) returns #D55E00</div>\r\n",
       "<div style='background-color: #CC79A7; color: black; padding: .5rem 1rem; font-weight: 600'>palette.GetColor(7) returns #CC79A7</div>"
      ]
     },
     "metadata": {},
     "output_type": "display_data"
    }
   ],
   "source": [
    "<div style='background-color: #000000; color: white; padding: .5rem 1rem; font-weight: 600'>palette.GetColor(0) returns #000000</div>\n",
    "<div style='background-color: #E69F00; color: white; padding: .5rem 1rem; font-weight: 600'>palette.GetColor(1) returns #E69F00</div>\n",
    "<div style='background-color: #56B4E9; color: black; padding: .5rem 1rem; font-weight: 600'>palette.GetColor(2) returns #56B4E9</div>\n",
    "<div style='background-color: #009E73; color: white; padding: .5rem 1rem; font-weight: 600'>palette.GetColor(3) returns #009E73</div>\n",
    "<div style='background-color: #F0E442; color: black; padding: .5rem 1rem; font-weight: 600'>palette.GetColor(4) returns #F0E442</div>\n",
    "<div style='background-color: #0072B2; color: white; padding: .5rem 1rem; font-weight: 600'>palette.GetColor(5) returns #0072B2</div>\n",
    "<div style='background-color: #D55E00; color: white; padding: .5rem 1rem; font-weight: 600'>palette.GetColor(6) returns #D55E00</div>\n",
    "<div style='background-color: #CC79A7; color: black; padding: .5rem 1rem; font-weight: 600'>palette.GetColor(7) returns #CC79A7</div>"
   ]
  },
  {
   "cell_type": "markdown",
   "metadata": {},
   "source": [
    "## Dark\n",
    "\n",
    "A qualitative 8-color palette generated using colorbrewer2.org"
   ]
  },
  {
   "cell_type": "code",
   "execution_count": 59,
   "metadata": {
    "dotnet_interactive": {
     "language": "fsharp"
    },
    "polyglot_notebook": {
     "kernelName": "fsharp"
    }
   },
   "outputs": [],
   "source": [
    "// Create an instance of the Dark palette\n",
    "let palette = Dark()\n",
    "let color = palette.GetColor(0) // Get a color from the palette"
   ]
  },
  {
   "cell_type": "code",
   "execution_count": 57,
   "metadata": {
    "dotnet_interactive": {
     "language": "html"
    },
    "polyglot_notebook": {
     "kernelName": "html"
    }
   },
   "outputs": [
    {
     "data": {
      "text/html": [
       "<div style='background-color: #1B9E77; color: white; padding: .5rem 1rem; font-weight: 600'>palette.GetColor(0) returns #1B9E77</div>\r\n",
       "<div style='background-color: #D95F02; color: white; padding: .5rem 1rem; font-weight: 600'>palette.GetColor(1) returns #D95F02</div>\r\n",
       "<div style='background-color: #7570B3; color: black; padding: .5rem 1rem; font-weight: 600'>palette.GetColor(2) returns #7570B3</div>\r\n",
       "<div style='background-color: #E7298A; color: black; padding: .5rem 1rem; font-weight: 600'>palette.GetColor(3) returns #E7298A</div>\r\n",
       "<div style='background-color: #66A61E; color: white; padding: .5rem 1rem; font-weight: 600'>palette.GetColor(4) returns #66A61E</div>\r\n",
       "<div style='background-color: #E6AB02; color: white; padding: .5rem 1rem; font-weight: 600'>palette.GetColor(5) returns #E6AB02</div>\r\n",
       "<div style='background-color: #A6761D; color: white; padding: .5rem 1rem; font-weight: 600'>palette.GetColor(6) returns #A6761D</div>\r\n",
       "<div style='background-color: #666666; color: white; padding: .5rem 1rem; font-weight: 600'>palette.GetColor(7) returns #666666</div>"
      ]
     },
     "metadata": {},
     "output_type": "display_data"
    }
   ],
   "source": [
    "<div style='background-color: #1B9E77; color: white; padding: .5rem 1rem; font-weight: 600'>palette.GetColor(0) returns #1B9E77</div>\n",
    "<div style='background-color: #D95F02; color: white; padding: .5rem 1rem; font-weight: 600'>palette.GetColor(1) returns #D95F02</div>\n",
    "<div style='background-color: #7570B3; color: black; padding: .5rem 1rem; font-weight: 600'>palette.GetColor(2) returns #7570B3</div>\n",
    "<div style='background-color: #E7298A; color: black; padding: .5rem 1rem; font-weight: 600'>palette.GetColor(3) returns #E7298A</div>\n",
    "<div style='background-color: #66A61E; color: white; padding: .5rem 1rem; font-weight: 600'>palette.GetColor(4) returns #66A61E</div>\n",
    "<div style='background-color: #E6AB02; color: white; padding: .5rem 1rem; font-weight: 600'>palette.GetColor(5) returns #E6AB02</div>\n",
    "<div style='background-color: #A6761D; color: white; padding: .5rem 1rem; font-weight: 600'>palette.GetColor(6) returns #A6761D</div>\n",
    "<div style='background-color: #666666; color: white; padding: .5rem 1rem; font-weight: 600'>palette.GetColor(7) returns #666666</div>"
   ]
  },
  {
   "cell_type": "markdown",
   "metadata": {},
   "source": [
    "## Dark Pastel\n",
    "\n",
    "A qualitative 8-color palette generated using colorbrewer2.org"
   ]
  },
  {
   "cell_type": "code",
   "execution_count": 55,
   "metadata": {
    "dotnet_interactive": {
     "language": "fsharp"
    },
    "polyglot_notebook": {
     "kernelName": "fsharp"
    }
   },
   "outputs": [],
   "source": [
    "// Create an instance of the DarkPastel palette\n",
    "let palette = DarkPastel()\n",
    "let color = palette.GetColor(0) // Get a color from the palette"
   ]
  },
  {
   "cell_type": "code",
   "execution_count": 56,
   "metadata": {
    "dotnet_interactive": {
     "language": "html"
    },
    "polyglot_notebook": {
     "kernelName": "html"
    }
   },
   "outputs": [
    {
     "data": {
      "text/html": [
       "<div style='background-color: #66C2A5; color: black; padding: .5rem 1rem; font-weight: 600'>palette.GetColor(0) returns #66C2A5</div>\r\n",
       "<div style='background-color: #FC8D62; color: black; padding: .5rem 1rem; font-weight: 600'>palette.GetColor(1) returns #FC8D62</div>\r\n",
       "<div style='background-color: #8DA0CB; color: black; padding: .5rem 1rem; font-weight: 600'>palette.GetColor(2) returns #8DA0CB</div>\r\n",
       "<div style='background-color: #E78AC3; color: black; padding: .5rem 1rem; font-weight: 600'>palette.GetColor(3) returns #E78AC3</div>\r\n",
       "<div style='background-color: #A6D854; color: black; padding: .5rem 1rem; font-weight: 600'>palette.GetColor(4) returns #A6D854</div>\r\n",
       "<div style='background-color: #FFD92F; color: black; padding: .5rem 1rem; font-weight: 600'>palette.GetColor(5) returns #FFD92F</div>\r\n",
       "<div style='background-color: #E5C494; color: black; padding: .5rem 1rem; font-weight: 600'>palette.GetColor(6) returns #E5C494</div>\r\n",
       "<div style='background-color: #B3B3B3; color: black; padding: .5rem 1rem; font-weight: 600'>palette.GetColor(7) returns #B3B3B3</div>"
      ]
     },
     "metadata": {},
     "output_type": "display_data"
    }
   ],
   "source": [
    "<div style='background-color: #66C2A5; color: black; padding: .5rem 1rem; font-weight: 600'>palette.GetColor(0) returns #66C2A5</div>\n",
    "<div style='background-color: #FC8D62; color: black; padding: .5rem 1rem; font-weight: 600'>palette.GetColor(1) returns #FC8D62</div>\n",
    "<div style='background-color: #8DA0CB; color: black; padding: .5rem 1rem; font-weight: 600'>palette.GetColor(2) returns #8DA0CB</div>\n",
    "<div style='background-color: #E78AC3; color: black; padding: .5rem 1rem; font-weight: 600'>palette.GetColor(3) returns #E78AC3</div>\n",
    "<div style='background-color: #A6D854; color: black; padding: .5rem 1rem; font-weight: 600'>palette.GetColor(4) returns #A6D854</div>\n",
    "<div style='background-color: #FFD92F; color: black; padding: .5rem 1rem; font-weight: 600'>palette.GetColor(5) returns #FFD92F</div>\n",
    "<div style='background-color: #E5C494; color: black; padding: .5rem 1rem; font-weight: 600'>palette.GetColor(6) returns #E5C494</div>\n",
    "<div style='background-color: #B3B3B3; color: black; padding: .5rem 1rem; font-weight: 600'>palette.GetColor(7) returns #B3B3B3</div>"
   ]
  },
  {
   "cell_type": "markdown",
   "metadata": {},
   "source": [
    "## Frost\n",
    "\n",
    "From the Nord collection of palettes: https://github.com/arcticicestudio/nord"
   ]
  },
  {
   "cell_type": "code",
   "execution_count": 53,
   "metadata": {
    "dotnet_interactive": {
     "language": "fsharp"
    },
    "polyglot_notebook": {
     "kernelName": "fsharp"
    }
   },
   "outputs": [],
   "source": [
    "// Create an instance of the Frost palette\n",
    "let palette = Frost()\n",
    "let color = palette.GetColor(0) // Get a color from the palette"
   ]
  },
  {
   "cell_type": "code",
   "execution_count": 54,
   "metadata": {
    "dotnet_interactive": {
     "language": "html"
    },
    "polyglot_notebook": {
     "kernelName": "html"
    }
   },
   "outputs": [
    {
     "data": {
      "text/html": [
       "<div style='background-color: #8FBCBB; color: black; padding: .5rem 1rem; font-weight: 600'>palette.GetColor(0) returns #8FBCBB</div>\r\n",
       "<div style='background-color: #88C0D0; color: black; padding: .5rem 1rem; font-weight: 600'>palette.GetColor(1) returns #88C0D0</div>\r\n",
       "<div style='background-color: #81A1C1; color: black; padding: .5rem 1rem; font-weight: 600'>palette.GetColor(2) returns #81A1C1</div>\r\n",
       "<div style='background-color: #5E81AC; color: black; padding: .5rem 1rem; font-weight: 600'>palette.GetColor(3) returns #5E81AC</div>"
      ]
     },
     "metadata": {},
     "output_type": "display_data"
    }
   ],
   "source": [
    "<div style='background-color: #8FBCBB; color: black; padding: .5rem 1rem; font-weight: 600'>palette.GetColor(0) returns #8FBCBB</div>\n",
    "<div style='background-color: #88C0D0; color: black; padding: .5rem 1rem; font-weight: 600'>palette.GetColor(1) returns #88C0D0</div>\n",
    "<div style='background-color: #81A1C1; color: black; padding: .5rem 1rem; font-weight: 600'>palette.GetColor(2) returns #81A1C1</div>\n",
    "<div style='background-color: #5E81AC; color: black; padding: .5rem 1rem; font-weight: 600'>palette.GetColor(3) returns #5E81AC</div>"
   ]
  },
  {
   "cell_type": "markdown",
   "metadata": {},
   "source": [
    "## Light ocean\n",
    "\n",
    "A 9-color palette by Arthurits created by a mixture of light greens, blues, and purples"
   ]
  },
  {
   "cell_type": "code",
   "execution_count": 51,
   "metadata": {
    "dotnet_interactive": {
     "language": "fsharp"
    },
    "polyglot_notebook": {
     "kernelName": "fsharp"
    }
   },
   "outputs": [],
   "source": [
    "// Create an instance of the LightOcean palette\n",
    "let palette = LightOcean()\n",
    "let color = palette.GetColor(0) // Get a color from the palette"
   ]
  },
  {
   "cell_type": "code",
   "execution_count": 52,
   "metadata": {
    "dotnet_interactive": {
     "language": "html"
    },
    "polyglot_notebook": {
     "kernelName": "html"
    }
   },
   "outputs": [
    {
     "data": {
      "text/html": [
       "<div style='background-color: #DFEDD9; color: black; padding: .5rem 1rem; font-weight: 600'>palette.GetColor(0) returns #DFEDD9</div>\r\n",
       "<div style='background-color: #DBECDC; color: black; padding: .5rem 1rem; font-weight: 600'>palette.GetColor(1) returns #DBECDC</div>\r\n",
       "<div style='background-color: #DBEDE4; color: black; padding: .5rem 1rem; font-weight: 600'>palette.GetColor(2) returns #DBEDE4</div>\r\n",
       "<div style='background-color: #DAEEEC; color: black; padding: .5rem 1rem; font-weight: 600'>palette.GetColor(3) returns #DAEEEC</div>\r\n",
       "<div style='background-color: #DAEEF3; color: black; padding: .5rem 1rem; font-weight: 600'>palette.GetColor(4) returns #DAEEF3</div>\r\n",
       "<div style='background-color: #DAE6F2; color: black; padding: .5rem 1rem; font-weight: 600'>palette.GetColor(5) returns #DAE6F2</div>\r\n",
       "<div style='background-color: #DADEF1; color: black; padding: .5rem 1rem; font-weight: 600'>palette.GetColor(6) returns #DADEF1</div>\r\n",
       "<div style='background-color: #DEDAEE; color: black; padding: .5rem 1rem; font-weight: 600'>palette.GetColor(7) returns #DEDAEE</div>\r\n",
       "<div style='background-color: #E5DAED; color: black; padding: .5rem 1rem; font-weight: 600'>palette.GetColor(8) returns #E5DAED</div>"
      ]
     },
     "metadata": {},
     "output_type": "display_data"
    }
   ],
   "source": [
    "<div style='background-color: #DFEDD9; color: black; padding: .5rem 1rem; font-weight: 600'>palette.GetColor(0) returns #DFEDD9</div>\n",
    "<div style='background-color: #DBECDC; color: black; padding: .5rem 1rem; font-weight: 600'>palette.GetColor(1) returns #DBECDC</div>\n",
    "<div style='background-color: #DBEDE4; color: black; padding: .5rem 1rem; font-weight: 600'>palette.GetColor(2) returns #DBEDE4</div>\n",
    "<div style='background-color: #DAEEEC; color: black; padding: .5rem 1rem; font-weight: 600'>palette.GetColor(3) returns #DAEEEC</div>\n",
    "<div style='background-color: #DAEEF3; color: black; padding: .5rem 1rem; font-weight: 600'>palette.GetColor(4) returns #DAEEF3</div>\n",
    "<div style='background-color: #DAE6F2; color: black; padding: .5rem 1rem; font-weight: 600'>palette.GetColor(5) returns #DAE6F2</div>\n",
    "<div style='background-color: #DADEF1; color: black; padding: .5rem 1rem; font-weight: 600'>palette.GetColor(6) returns #DADEF1</div>\n",
    "<div style='background-color: #DEDAEE; color: black; padding: .5rem 1rem; font-weight: 600'>palette.GetColor(7) returns #DEDAEE</div>\n",
    "<div style='background-color: #E5DAED; color: black; padding: .5rem 1rem; font-weight: 600'>palette.GetColor(8) returns #E5DAED</div>"
   ]
  },
  {
   "cell_type": "markdown",
   "metadata": {},
   "source": [
    "## Light spectrum\n",
    "\n",
    "A 9-color palette by Arthurits created by lightening the colors in the visible spectrum"
   ]
  },
  {
   "cell_type": "code",
   "execution_count": 49,
   "metadata": {
    "dotnet_interactive": {
     "language": "fsharp"
    },
    "polyglot_notebook": {
     "kernelName": "fsharp"
    }
   },
   "outputs": [],
   "source": [
    "// Create an instance of the LightSpectrum palette\n",
    "let palette = LightSpectrum()\n",
    "let color = palette.GetColor(0) // Get a color from the palette"
   ]
  },
  {
   "cell_type": "code",
   "execution_count": 50,
   "metadata": {
    "dotnet_interactive": {
     "language": "html"
    },
    "polyglot_notebook": {
     "kernelName": "html"
    }
   },
   "outputs": [
    {
     "data": {
      "text/html": [
       "<div style='background-color: #FCE5E6; color: black; padding: .5rem 1rem; font-weight: 600'>palette.GetColor(0) returns #FCE5E6</div>\r\n",
       "<div style='background-color: #FFF8E7; color: black; padding: .5rem 1rem; font-weight: 600'>palette.GetColor(1) returns #FFF8E7</div>\r\n",
       "<div style='background-color: #FFFCE8; color: black; padding: .5rem 1rem; font-weight: 600'>palette.GetColor(2) returns #FFFCE8</div>\r\n",
       "<div style='background-color: #EFF5E4; color: black; padding: .5rem 1rem; font-weight: 600'>palette.GetColor(3) returns #EFF5E4</div>\r\n",
       "<div style='background-color: #E7F2E6; color: black; padding: .5rem 1rem; font-weight: 600'>palette.GetColor(4) returns #E7F2E6</div>\r\n",
       "<div style='background-color: #DDF0F5; color: black; padding: .5rem 1rem; font-weight: 600'>palette.GetColor(5) returns #DDF0F5</div>\r\n",
       "<div style='background-color: #E6F2FC; color: black; padding: .5rem 1rem; font-weight: 600'>palette.GetColor(6) returns #E6F2FC</div>\r\n",
       "<div style='background-color: #E6EAF7; color: black; padding: .5rem 1rem; font-weight: 600'>palette.GetColor(7) returns #E6EAF7</div>\r\n",
       "<div style='background-color: #EEE0F0; color: black; padding: .5rem 1rem; font-weight: 600'>palette.GetColor(8) returns #EEE0F0</div>"
      ]
     },
     "metadata": {},
     "output_type": "display_data"
    }
   ],
   "source": [
    "<div style='background-color: #FCE5E6; color: black; padding: .5rem 1rem; font-weight: 600'>palette.GetColor(0) returns #FCE5E6</div>\n",
    "<div style='background-color: #FFF8E7; color: black; padding: .5rem 1rem; font-weight: 600'>palette.GetColor(1) returns #FFF8E7</div>\n",
    "<div style='background-color: #FFFCE8; color: black; padding: .5rem 1rem; font-weight: 600'>palette.GetColor(2) returns #FFFCE8</div>\n",
    "<div style='background-color: #EFF5E4; color: black; padding: .5rem 1rem; font-weight: 600'>palette.GetColor(3) returns #EFF5E4</div>\n",
    "<div style='background-color: #E7F2E6; color: black; padding: .5rem 1rem; font-weight: 600'>palette.GetColor(4) returns #E7F2E6</div>\n",
    "<div style='background-color: #DDF0F5; color: black; padding: .5rem 1rem; font-weight: 600'>palette.GetColor(5) returns #DDF0F5</div>\n",
    "<div style='background-color: #E6F2FC; color: black; padding: .5rem 1rem; font-weight: 600'>palette.GetColor(6) returns #E6F2FC</div>\n",
    "<div style='background-color: #E6EAF7; color: black; padding: .5rem 1rem; font-weight: 600'>palette.GetColor(7) returns #E6EAF7</div>\n",
    "<div style='background-color: #EEE0F0; color: black; padding: .5rem 1rem; font-weight: 600'>palette.GetColor(8) returns #EEE0F0</div>"
   ]
  },
  {
   "cell_type": "markdown",
   "metadata": {},
   "source": [
    "## Microcharts\n",
    "\n",
    "Soft color palette sourced from the Microcharts project: https://github.com/microcharts-dotnet/Microcharts"
   ]
  },
  {
   "cell_type": "code",
   "execution_count": 47,
   "metadata": {
    "dotnet_interactive": {
     "language": "fsharp"
    },
    "polyglot_notebook": {
     "kernelName": "fsharp"
    }
   },
   "outputs": [],
   "source": [
    "// Create an instance of the Microcharts palette\n",
    "let palette = Microcharts()\n",
    "let color = palette.GetColor(0) // Get a color from the palette"
   ]
  },
  {
   "cell_type": "code",
   "execution_count": 48,
   "metadata": {
    "dotnet_interactive": {
     "language": "html"
    },
    "polyglot_notebook": {
     "kernelName": "html"
    }
   },
   "outputs": [
    {
     "data": {
      "text/html": [
       "<div style='background-color: #266489; color: white; padding: .5rem 1rem; font-weight: 600'>palette.GetColor(0) returns #266489</div>\r\n",
       "<div style='background-color: #68B9C0; color: black; padding: .5rem 1rem; font-weight: 600'>palette.GetColor(1) returns #68B9C0</div>\r\n",
       "<div style='background-color: #90D585; color: black; padding: .5rem 1rem; font-weight: 600'>palette.GetColor(2) returns #90D585</div>\r\n",
       "<div style='background-color: #F3C151; color: black; padding: .5rem 1rem; font-weight: 600'>palette.GetColor(3) returns #F3C151</div>\r\n",
       "<div style='background-color: #F37F64; color: black; padding: .5rem 1rem; font-weight: 600'>palette.GetColor(4) returns #F37F64</div>\r\n",
       "<div style='background-color: #424856; color: white; padding: .5rem 1rem; font-weight: 600'>palette.GetColor(5) returns #424856</div>\r\n",
       "<div style='background-color: #8F97A4; color: black; padding: .5rem 1rem; font-weight: 600'>palette.GetColor(6) returns #8F97A4</div>\r\n",
       "<div style='background-color: #DAC096; color: black; padding: .5rem 1rem; font-weight: 600'>palette.GetColor(7) returns #DAC096</div>\r\n",
       "<div style='background-color: #76846E; color: white; padding: .5rem 1rem; font-weight: 600'>palette.GetColor(8) returns #76846E</div>\r\n",
       "<div style='background-color: #DABFAF; color: black; padding: .5rem 1rem; font-weight: 600'>palette.GetColor(9) returns #DABFAF</div>\r\n",
       "<div style='background-color: #A65B69; color: black; padding: .5rem 1rem; font-weight: 600'>palette.GetColor(10) returns #A65B69</div>\r\n",
       "<div style='background-color: #97A69D; color: black; padding: .5rem 1rem; font-weight: 600'>palette.GetColor(11) returns #97A69D</div>"
      ]
     },
     "metadata": {},
     "output_type": "display_data"
    }
   ],
   "source": [
    "<div style='background-color: #266489; color: white; padding: .5rem 1rem; font-weight: 600'>palette.GetColor(0) returns #266489</div>\n",
    "<div style='background-color: #68B9C0; color: black; padding: .5rem 1rem; font-weight: 600'>palette.GetColor(1) returns #68B9C0</div>\n",
    "<div style='background-color: #90D585; color: black; padding: .5rem 1rem; font-weight: 600'>palette.GetColor(2) returns #90D585</div>\n",
    "<div style='background-color: #F3C151; color: black; padding: .5rem 1rem; font-weight: 600'>palette.GetColor(3) returns #F3C151</div>\n",
    "<div style='background-color: #F37F64; color: black; padding: .5rem 1rem; font-weight: 600'>palette.GetColor(4) returns #F37F64</div>\n",
    "<div style='background-color: #424856; color: white; padding: .5rem 1rem; font-weight: 600'>palette.GetColor(5) returns #424856</div>\n",
    "<div style='background-color: #8F97A4; color: black; padding: .5rem 1rem; font-weight: 600'>palette.GetColor(6) returns #8F97A4</div>\n",
    "<div style='background-color: #DAC096; color: black; padding: .5rem 1rem; font-weight: 600'>palette.GetColor(7) returns #DAC096</div>\n",
    "<div style='background-color: #76846E; color: white; padding: .5rem 1rem; font-weight: 600'>palette.GetColor(8) returns #76846E</div>\n",
    "<div style='background-color: #DABFAF; color: black; padding: .5rem 1rem; font-weight: 600'>palette.GetColor(9) returns #DABFAF</div>\n",
    "<div style='background-color: #A65B69; color: black; padding: .5rem 1rem; font-weight: 600'>palette.GetColor(10) returns #A65B69</div>\n",
    "<div style='background-color: #97A69D; color: black; padding: .5rem 1rem; font-weight: 600'>palette.GetColor(11) returns #97A69D</div>"
   ]
  },
  {
   "cell_type": "markdown",
   "metadata": {},
   "source": [
    "## Nero"
   ]
  },
  {
   "cell_type": "code",
   "execution_count": 45,
   "metadata": {
    "dotnet_interactive": {
     "language": "fsharp"
    },
    "polyglot_notebook": {
     "kernelName": "fsharp"
    }
   },
   "outputs": [],
   "source": [
    "// Create an instance of the Nero palette\n",
    "let palette = Nero()\n",
    "let color = palette.GetColor(0) // Get a color from the palette"
   ]
  },
  {
   "cell_type": "code",
   "execution_count": 46,
   "metadata": {
    "dotnet_interactive": {
     "language": "html"
    },
    "polyglot_notebook": {
     "kernelName": "html"
    }
   },
   "outputs": [
    {
     "data": {
      "text/html": [
       "<div style='background-color: #013A20; color: white; padding: .5rem 1rem; font-weight: 600'>palette.GetColor(0) returns #013A20</div>\r\n",
       "<div style='background-color: #478C5C; color: white; padding: .5rem 1rem; font-weight: 600'>palette.GetColor(1) returns #478C5C</div>\r\n",
       "<div style='background-color: #94C973; color: black; padding: .5rem 1rem; font-weight: 600'>palette.GetColor(2) returns #94C973</div>\r\n",
       "<div style='background-color: #BACC81; color: black; padding: .5rem 1rem; font-weight: 600'>palette.GetColor(3) returns #BACC81</div>\r\n",
       "<div style='background-color: #CDD193; color: black; padding: .5rem 1rem; font-weight: 600'>palette.GetColor(4) returns #CDD193</div>"
      ]
     },
     "metadata": {},
     "output_type": "display_data"
    }
   ],
   "source": [
    "<div style='background-color: #013A20; color: white; padding: .5rem 1rem; font-weight: 600'>palette.GetColor(0) returns #013A20</div>\n",
    "<div style='background-color: #478C5C; color: white; padding: .5rem 1rem; font-weight: 600'>palette.GetColor(1) returns #478C5C</div>\n",
    "<div style='background-color: #94C973; color: black; padding: .5rem 1rem; font-weight: 600'>palette.GetColor(2) returns #94C973</div>\n",
    "<div style='background-color: #BACC81; color: black; padding: .5rem 1rem; font-weight: 600'>palette.GetColor(3) returns #BACC81</div>\n",
    "<div style='background-color: #CDD193; color: black; padding: .5rem 1rem; font-weight: 600'>palette.GetColor(4) returns #CDD193</div>"
   ]
  },
  {
   "cell_type": "markdown",
   "metadata": {},
   "source": [
    "## Nord\n",
    "\n",
    "From the Nord ConEmu color scheme: https://github.com/arcticicestudio/nord-conemu"
   ]
  },
  {
   "cell_type": "code",
   "execution_count": 43,
   "metadata": {
    "dotnet_interactive": {
     "language": "fsharp"
    },
    "polyglot_notebook": {
     "kernelName": "fsharp"
    }
   },
   "outputs": [],
   "source": [
    "// Create an instance of the Nord palette\n",
    "let palette = Nord()\n",
    "let color = palette.GetColor(0) // Get a color from the palette"
   ]
  },
  {
   "cell_type": "code",
   "execution_count": 44,
   "metadata": {
    "dotnet_interactive": {
     "language": "html"
    },
    "polyglot_notebook": {
     "kernelName": "html"
    }
   },
   "outputs": [
    {
     "data": {
      "text/html": [
       "<div style='background-color: #BF616A; color: black; padding: .5rem 1rem; font-weight: 600'>palette.GetColor(0) returns #BF616A</div>\r\n",
       "<div style='background-color: #A3BE8C; color: black; padding: .5rem 1rem; font-weight: 600'>palette.GetColor(1) returns #A3BE8C</div>\r\n",
       "<div style='background-color: #EBCB8B; color: black; padding: .5rem 1rem; font-weight: 600'>palette.GetColor(2) returns #EBCB8B</div>\r\n",
       "<div style='background-color: #81A1C1; color: black; padding: .5rem 1rem; font-weight: 600'>palette.GetColor(3) returns #81A1C1</div>\r\n",
       "<div style='background-color: #B48EAD; color: black; padding: .5rem 1rem; font-weight: 600'>palette.GetColor(4) returns #B48EAD</div>\r\n",
       "<div style='background-color: #88C0D0; color: black; padding: .5rem 1rem; font-weight: 600'>palette.GetColor(5) returns #88C0D0</div>\r\n",
       "<div style='background-color: #E5E9F0; color: black; padding: .5rem 1rem; font-weight: 600'>palette.GetColor(6) returns #E5E9F0</div>"
      ]
     },
     "metadata": {},
     "output_type": "display_data"
    }
   ],
   "source": [
    "<div style='background-color: #BF616A; color: black; padding: .5rem 1rem; font-weight: 600'>palette.GetColor(0) returns #BF616A</div>\n",
    "<div style='background-color: #A3BE8C; color: black; padding: .5rem 1rem; font-weight: 600'>palette.GetColor(1) returns #A3BE8C</div>\n",
    "<div style='background-color: #EBCB8B; color: black; padding: .5rem 1rem; font-weight: 600'>palette.GetColor(2) returns #EBCB8B</div>\n",
    "<div style='background-color: #81A1C1; color: black; padding: .5rem 1rem; font-weight: 600'>palette.GetColor(3) returns #81A1C1</div>\n",
    "<div style='background-color: #B48EAD; color: black; padding: .5rem 1rem; font-weight: 600'>palette.GetColor(4) returns #B48EAD</div>\n",
    "<div style='background-color: #88C0D0; color: black; padding: .5rem 1rem; font-weight: 600'>palette.GetColor(5) returns #88C0D0</div>\n",
    "<div style='background-color: #E5E9F0; color: black; padding: .5rem 1rem; font-weight: 600'>palette.GetColor(6) returns #E5E9F0</div>"
   ]
  },
  {
   "cell_type": "markdown",
   "metadata": {},
   "source": [
    "## Xgfs Normal 6\n",
    "\n",
    "A color palette adapted from Tsitsulin’s 6-color normal xgfs palette: http://tsitsul.in/blog/coloropt"
   ]
  },
  {
   "cell_type": "code",
   "execution_count": 41,
   "metadata": {
    "dotnet_interactive": {
     "language": "fsharp"
    },
    "polyglot_notebook": {
     "kernelName": "fsharp"
    }
   },
   "outputs": [],
   "source": [
    "// Create an instance of the Normal palette\n",
    "let palette = Normal()\n",
    "let color = palette.GetColor(0) // Get a color from the palette"
   ]
  },
  {
   "cell_type": "code",
   "execution_count": 42,
   "metadata": {
    "dotnet_interactive": {
     "language": "html"
    },
    "polyglot_notebook": {
     "kernelName": "html"
    }
   },
   "outputs": [
    {
     "data": {
      "text/html": [
       "<div style='background-color: #4053D3; color: black; padding: .5rem 1rem; font-weight: 600'>palette.GetColor(0) returns #4053D3</div>\r\n",
       "<div style='background-color: #DDB310; color: white; padding: .5rem 1rem; font-weight: 600'>palette.GetColor(1) returns #DDB310</div>\r\n",
       "<div style='background-color: #B51D14; color: white; padding: .5rem 1rem; font-weight: 600'>palette.GetColor(2) returns #B51D14</div>\r\n",
       "<div style='background-color: #00BEFF; color: white; padding: .5rem 1rem; font-weight: 600'>palette.GetColor(3) returns #00BEFF</div>\r\n",
       "<div style='background-color: #FB49B0; color: black; padding: .5rem 1rem; font-weight: 600'>palette.GetColor(4) returns #FB49B0</div>\r\n",
       "<div style='background-color: #00B25D; color: white; padding: .5rem 1rem; font-weight: 600'>palette.GetColor(5) returns #00B25D</div>\r\n",
       "<div style='background-color: #CACACA; color: black; padding: .5rem 1rem; font-weight: 600'>palette.GetColor(6) returns #CACACA</div>"
      ]
     },
     "metadata": {},
     "output_type": "display_data"
    }
   ],
   "source": [
    "<div style='background-color: #4053D3; color: black; padding: .5rem 1rem; font-weight: 600'>palette.GetColor(0) returns #4053D3</div>\n",
    "<div style='background-color: #DDB310; color: white; padding: .5rem 1rem; font-weight: 600'>palette.GetColor(1) returns #DDB310</div>\n",
    "<div style='background-color: #B51D14; color: white; padding: .5rem 1rem; font-weight: 600'>palette.GetColor(2) returns #B51D14</div>\n",
    "<div style='background-color: #00BEFF; color: white; padding: .5rem 1rem; font-weight: 600'>palette.GetColor(3) returns #00BEFF</div>\n",
    "<div style='background-color: #FB49B0; color: black; padding: .5rem 1rem; font-weight: 600'>palette.GetColor(4) returns #FB49B0</div>\n",
    "<div style='background-color: #00B25D; color: white; padding: .5rem 1rem; font-weight: 600'>palette.GetColor(5) returns #00B25D</div>\n",
    "<div style='background-color: #CACACA; color: black; padding: .5rem 1rem; font-weight: 600'>palette.GetColor(6) returns #CACACA</div>"
   ]
  },
  {
   "cell_type": "markdown",
   "metadata": {},
   "source": [
    "## One Half\n",
    "\n",
    "A Sublime color scheme by Son A. Pham: https://github.com/sonph/onehalf"
   ]
  },
  {
   "cell_type": "code",
   "execution_count": 39,
   "metadata": {
    "dotnet_interactive": {
     "language": "fsharp"
    },
    "polyglot_notebook": {
     "kernelName": "fsharp"
    }
   },
   "outputs": [],
   "source": [
    "// Create an instance of the OneHalf palette\n",
    "let palette = OneHalf()\n",
    "let color = palette.GetColor(0) // Get a color from the palette"
   ]
  },
  {
   "cell_type": "code",
   "execution_count": 40,
   "metadata": {
    "dotnet_interactive": {
     "language": "html"
    },
    "polyglot_notebook": {
     "kernelName": "html"
    }
   },
   "outputs": [
    {
     "data": {
      "text/html": [
       "<div style='background-color: #383A42; color: white; padding: .5rem 1rem; font-weight: 600'>palette.GetColor(0) returns #383A42</div>\r\n",
       "<div style='background-color: #E4564A; color: black; padding: .5rem 1rem; font-weight: 600'>palette.GetColor(1) returns #E4564A</div>\r\n",
       "<div style='background-color: #50A14F; color: white; padding: .5rem 1rem; font-weight: 600'>palette.GetColor(2) returns #50A14F</div>\r\n",
       "<div style='background-color: #C18402; color: white; padding: .5rem 1rem; font-weight: 600'>palette.GetColor(3) returns #C18402</div>\r\n",
       "<div style='background-color: #0084BC; color: white; padding: .5rem 1rem; font-weight: 600'>palette.GetColor(4) returns #0084BC</div>\r\n",
       "<div style='background-color: #A626A4; color: white; padding: .5rem 1rem; font-weight: 600'>palette.GetColor(5) returns #A626A4</div>\r\n",
       "<div style='background-color: #0897B3; color: white; padding: .5rem 1rem; font-weight: 600'>palette.GetColor(6) returns #0897B3</div>"
      ]
     },
     "metadata": {},
     "output_type": "display_data"
    }
   ],
   "source": [
    "<div style='background-color: #383A42; color: white; padding: .5rem 1rem; font-weight: 600'>palette.GetColor(0) returns #383A42</div>\n",
    "<div style='background-color: #E4564A; color: black; padding: .5rem 1rem; font-weight: 600'>palette.GetColor(1) returns #E4564A</div>\n",
    "<div style='background-color: #50A14F; color: white; padding: .5rem 1rem; font-weight: 600'>palette.GetColor(2) returns #50A14F</div>\n",
    "<div style='background-color: #C18402; color: white; padding: .5rem 1rem; font-weight: 600'>palette.GetColor(3) returns #C18402</div>\n",
    "<div style='background-color: #0084BC; color: white; padding: .5rem 1rem; font-weight: 600'>palette.GetColor(4) returns #0084BC</div>\n",
    "<div style='background-color: #A626A4; color: white; padding: .5rem 1rem; font-weight: 600'>palette.GetColor(5) returns #A626A4</div>\n",
    "<div style='background-color: #0897B3; color: white; padding: .5rem 1rem; font-weight: 600'>palette.GetColor(6) returns #0897B3</div>"
   ]
  },
  {
   "cell_type": "markdown",
   "metadata": {},
   "source": [
    "## One Half (Dark)\n",
    "\n",
    "A Sublime color scheme by Son A. Pham: https://github.com/sonph/onehalf"
   ]
  },
  {
   "cell_type": "code",
   "execution_count": 37,
   "metadata": {
    "dotnet_interactive": {
     "language": "fsharp"
    },
    "polyglot_notebook": {
     "kernelName": "fsharp"
    }
   },
   "outputs": [],
   "source": [
    "// Create an instance of the OneHalfDark palette\n",
    "let palette = OneHalfDark()\n",
    "let color = palette.GetColor(0) // Get a color from the palette"
   ]
  },
  {
   "cell_type": "code",
   "execution_count": 38,
   "metadata": {
    "dotnet_interactive": {
     "language": "html"
    },
    "polyglot_notebook": {
     "kernelName": "html"
    }
   },
   "outputs": [
    {
     "data": {
      "text/html": [
       "<div style='background-color: #E06C75; color: black; padding: .5rem 1rem; font-weight: 600'>palette.GetColor(0) returns #E06C75</div>\r\n",
       "<div style='background-color: #98C379; color: black; padding: .5rem 1rem; font-weight: 600'>palette.GetColor(1) returns #98C379</div>\r\n",
       "<div style='background-color: #E5C07B; color: black; padding: .5rem 1rem; font-weight: 600'>palette.GetColor(2) returns #E5C07B</div>\r\n",
       "<div style='background-color: #61AFF0; color: black; padding: .5rem 1rem; font-weight: 600'>palette.GetColor(3) returns #61AFF0</div>\r\n",
       "<div style='background-color: #C678DD; color: black; padding: .5rem 1rem; font-weight: 600'>palette.GetColor(4) returns #C678DD</div>\r\n",
       "<div style='background-color: #56B6C2; color: black; padding: .5rem 1rem; font-weight: 600'>palette.GetColor(5) returns #56B6C2</div>\r\n",
       "<div style='background-color: #DCDFE4; color: black; padding: .5rem 1rem; font-weight: 600'>palette.GetColor(6) returns #DCDFE4</div>"
      ]
     },
     "metadata": {},
     "output_type": "display_data"
    }
   ],
   "source": [
    "<div style='background-color: #E06C75; color: black; padding: .5rem 1rem; font-weight: 600'>palette.GetColor(0) returns #E06C75</div>\n",
    "<div style='background-color: #98C379; color: black; padding: .5rem 1rem; font-weight: 600'>palette.GetColor(1) returns #98C379</div>\n",
    "<div style='background-color: #E5C07B; color: black; padding: .5rem 1rem; font-weight: 600'>palette.GetColor(2) returns #E5C07B</div>\n",
    "<div style='background-color: #61AFF0; color: black; padding: .5rem 1rem; font-weight: 600'>palette.GetColor(3) returns #61AFF0</div>\n",
    "<div style='background-color: #C678DD; color: black; padding: .5rem 1rem; font-weight: 600'>palette.GetColor(4) returns #C678DD</div>\n",
    "<div style='background-color: #56B6C2; color: black; padding: .5rem 1rem; font-weight: 600'>palette.GetColor(5) returns #56B6C2</div>\n",
    "<div style='background-color: #DCDFE4; color: black; padding: .5rem 1rem; font-weight: 600'>palette.GetColor(6) returns #DCDFE4</div>"
   ]
  },
  {
   "cell_type": "markdown",
   "metadata": {},
   "source": [
    "## Pastel wheel\n",
    "\n",
    "A 12-color palette by Arthurits created by lightening the color wheel"
   ]
  },
  {
   "cell_type": "code",
   "execution_count": 35,
   "metadata": {
    "dotnet_interactive": {
     "language": "fsharp"
    },
    "polyglot_notebook": {
     "kernelName": "fsharp"
    }
   },
   "outputs": [],
   "source": [
    "// Create an instance of the PastelWheel palette\n",
    "let palette = PastelWheel()\n",
    "let color = palette.GetColor(0) // Get a color from the palette"
   ]
  },
  {
   "cell_type": "code",
   "execution_count": 36,
   "metadata": {
    "dotnet_interactive": {
     "language": "html"
    },
    "polyglot_notebook": {
     "kernelName": "html"
    }
   },
   "outputs": [
    {
     "data": {
      "text/html": [
       "<div style='background-color: #F8C5C7; color: black; padding: .5rem 1rem; font-weight: 600'>palette.GetColor(0) returns #F8C5C7</div>\r\n",
       "<div style='background-color: #FADEC3; color: black; padding: .5rem 1rem; font-weight: 600'>palette.GetColor(1) returns #FADEC3</div>\r\n",
       "<div style='background-color: #FBF6C4; color: black; padding: .5rem 1rem; font-weight: 600'>palette.GetColor(2) returns #FBF6C4</div>\r\n",
       "<div style='background-color: #E1ECC8; color: black; padding: .5rem 1rem; font-weight: 600'>palette.GetColor(3) returns #E1ECC8</div>\r\n",
       "<div style='background-color: #D7E8CB; color: black; padding: .5rem 1rem; font-weight: 600'>palette.GetColor(4) returns #D7E8CB</div>\r\n",
       "<div style='background-color: #DAEBD7; color: black; padding: .5rem 1rem; font-weight: 600'>palette.GetColor(5) returns #DAEBD7</div>\r\n",
       "<div style='background-color: #D9EEF3; color: black; padding: .5rem 1rem; font-weight: 600'>palette.GetColor(6) returns #D9EEF3</div>\r\n",
       "<div style='background-color: #CADBED; color: black; padding: .5rem 1rem; font-weight: 600'>palette.GetColor(7) returns #CADBED</div>\r\n",
       "<div style='background-color: #C7D2E6; color: black; padding: .5rem 1rem; font-weight: 600'>palette.GetColor(8) returns #C7D2E6</div>\r\n",
       "<div style='background-color: #D4D1E5; color: black; padding: .5rem 1rem; font-weight: 600'>palette.GetColor(9) returns #D4D1E5</div>\r\n",
       "<div style='background-color: #E8D3E6; color: black; padding: .5rem 1rem; font-weight: 600'>palette.GetColor(10) returns #E8D3E6</div>\r\n",
       "<div style='background-color: #F8C7DE; color: black; padding: .5rem 1rem; font-weight: 600'>palette.GetColor(11) returns #F8C7DE</div>"
      ]
     },
     "metadata": {},
     "output_type": "display_data"
    }
   ],
   "source": [
    "<div style='background-color: #F8C5C7; color: black; padding: .5rem 1rem; font-weight: 600'>palette.GetColor(0) returns #F8C5C7</div>\n",
    "<div style='background-color: #FADEC3; color: black; padding: .5rem 1rem; font-weight: 600'>palette.GetColor(1) returns #FADEC3</div>\n",
    "<div style='background-color: #FBF6C4; color: black; padding: .5rem 1rem; font-weight: 600'>palette.GetColor(2) returns #FBF6C4</div>\n",
    "<div style='background-color: #E1ECC8; color: black; padding: .5rem 1rem; font-weight: 600'>palette.GetColor(3) returns #E1ECC8</div>\n",
    "<div style='background-color: #D7E8CB; color: black; padding: .5rem 1rem; font-weight: 600'>palette.GetColor(4) returns #D7E8CB</div>\n",
    "<div style='background-color: #DAEBD7; color: black; padding: .5rem 1rem; font-weight: 600'>palette.GetColor(5) returns #DAEBD7</div>\n",
    "<div style='background-color: #D9EEF3; color: black; padding: .5rem 1rem; font-weight: 600'>palette.GetColor(6) returns #D9EEF3</div>\n",
    "<div style='background-color: #CADBED; color: black; padding: .5rem 1rem; font-weight: 600'>palette.GetColor(7) returns #CADBED</div>\n",
    "<div style='background-color: #C7D2E6; color: black; padding: .5rem 1rem; font-weight: 600'>palette.GetColor(8) returns #C7D2E6</div>\n",
    "<div style='background-color: #D4D1E5; color: black; padding: .5rem 1rem; font-weight: 600'>palette.GetColor(9) returns #D4D1E5</div>\n",
    "<div style='background-color: #E8D3E6; color: black; padding: .5rem 1rem; font-weight: 600'>palette.GetColor(10) returns #E8D3E6</div>\n",
    "<div style='background-color: #F8C7DE; color: black; padding: .5rem 1rem; font-weight: 600'>palette.GetColor(11) returns #F8C7DE</div>"
   ]
  },
  {
   "cell_type": "markdown",
   "metadata": {},
   "source": [
    "## Penumbra\n",
    "\n",
    "A perceptually uniform color palette by Neal McKee: https://github.com/nealmckee/penumbra"
   ]
  },
  {
   "cell_type": "code",
   "execution_count": 31,
   "metadata": {
    "dotnet_interactive": {
     "language": "fsharp"
    },
    "polyglot_notebook": {
     "kernelName": "fsharp"
    }
   },
   "outputs": [],
   "source": [
    "// Create an instance of the Penumbra palette\n",
    "let palette = Penumbra()\n",
    "let color = palette.GetColor(0) // Get a color from the palette"
   ]
  },
  {
   "cell_type": "code",
   "execution_count": 32,
   "metadata": {
    "dotnet_interactive": {
     "language": "html"
    },
    "polyglot_notebook": {
     "kernelName": "html"
    }
   },
   "outputs": [
    {
     "data": {
      "text/html": [
       "<div style='background-color: #CB7459; color: black; padding: .5rem 1rem; font-weight: 600'>palette.GetColor(0) returns #CB7459</div>\r\n",
       "<div style='background-color: #A38F2D; color: white; padding: .5rem 1rem; font-weight: 600'>palette.GetColor(1) returns #A38F2D</div>\r\n",
       "<div style='background-color: #46A473; color: white; padding: .5rem 1rem; font-weight: 600'>palette.GetColor(2) returns #46A473</div>\r\n",
       "<div style='background-color: #00A0BE; color: white; padding: .5rem 1rem; font-weight: 600'>palette.GetColor(3) returns #00A0BE</div>\r\n",
       "<div style='background-color: #7E87D6; color: black; padding: .5rem 1rem; font-weight: 600'>palette.GetColor(4) returns #7E87D6</div>\r\n",
       "<div style='background-color: #BD72A8; color: black; padding: .5rem 1rem; font-weight: 600'>palette.GetColor(5) returns #BD72A8</div>"
      ]
     },
     "metadata": {},
     "output_type": "display_data"
    }
   ],
   "source": [
    "<div style='background-color: #CB7459; color: black; padding: .5rem 1rem; font-weight: 600'>palette.GetColor(0) returns #CB7459</div>\n",
    "<div style='background-color: #A38F2D; color: white; padding: .5rem 1rem; font-weight: 600'>palette.GetColor(1) returns #A38F2D</div>\n",
    "<div style='background-color: #46A473; color: white; padding: .5rem 1rem; font-weight: 600'>palette.GetColor(2) returns #46A473</div>\n",
    "<div style='background-color: #00A0BE; color: white; padding: .5rem 1rem; font-weight: 600'>palette.GetColor(3) returns #00A0BE</div>\n",
    "<div style='background-color: #7E87D6; color: black; padding: .5rem 1rem; font-weight: 600'>palette.GetColor(4) returns #7E87D6</div>\n",
    "<div style='background-color: #BD72A8; color: black; padding: .5rem 1rem; font-weight: 600'>palette.GetColor(5) returns #BD72A8</div>"
   ]
  },
  {
   "cell_type": "markdown",
   "metadata": {},
   "source": [
    "## Polar Night\n",
    "\n",
    "From the Nord collection of palettes: https://github.com/arcticicestudio/nord"
   ]
  },
  {
   "cell_type": "code",
   "execution_count": null,
   "metadata": {
    "dotnet_interactive": {
     "language": "fsharp"
    },
    "polyglot_notebook": {
     "kernelName": "fsharp"
    }
   },
   "outputs": [],
   "source": [
    "// Create an instance of the PolarNight palette\n",
    "let palette = PolarNight()\n",
    "let color = palette.GetColor(0) // Get a color from the palette"
   ]
  },
  {
   "cell_type": "code",
   "execution_count": 30,
   "metadata": {
    "dotnet_interactive": {
     "language": "html"
    },
    "polyglot_notebook": {
     "kernelName": "html"
    }
   },
   "outputs": [
    {
     "data": {
      "text/html": [
       "<div style='background-color: #2E3440; color: white; padding: .5rem 1rem; font-weight: 600'>palette.GetColor(0) returns #2E3440</div>\r\n",
       "<div style='background-color: #3B4252; color: white; padding: .5rem 1rem; font-weight: 600'>palette.GetColor(1) returns #3B4252</div>\r\n",
       "<div style='background-color: #434C5E; color: white; padding: .5rem 1rem; font-weight: 600'>palette.GetColor(2) returns #434C5E</div>\r\n",
       "<div style='background-color: #4C566A; color: white; padding: .5rem 1rem; font-weight: 600'>palette.GetColor(3) returns #4C566A</div>"
      ]
     },
     "metadata": {},
     "output_type": "display_data"
    }
   ],
   "source": [
    "<div style='background-color: #2E3440; color: white; padding: .5rem 1rem; font-weight: 600'>palette.GetColor(0) returns #2E3440</div>\n",
    "<div style='background-color: #3B4252; color: white; padding: .5rem 1rem; font-weight: 600'>palette.GetColor(1) returns #3B4252</div>\n",
    "<div style='background-color: #434C5E; color: white; padding: .5rem 1rem; font-weight: 600'>palette.GetColor(2) returns #434C5E</div>\n",
    "<div style='background-color: #4C566A; color: white; padding: .5rem 1rem; font-weight: 600'>palette.GetColor(3) returns #4C566A</div>"
   ]
  },
  {
   "cell_type": "markdown",
   "metadata": {},
   "source": [
    "## Redness"
   ]
  },
  {
   "cell_type": "code",
   "execution_count": 28,
   "metadata": {
    "dotnet_interactive": {
     "language": "fsharp"
    },
    "polyglot_notebook": {
     "kernelName": "fsharp"
    }
   },
   "outputs": [],
   "source": [
    "// Create an instance of the Redness palette\n",
    "let palette = Redness()\n",
    "let color = palette.GetColor(0) // Get a color from the palette"
   ]
  },
  {
   "cell_type": "code",
   "execution_count": 29,
   "metadata": {
    "dotnet_interactive": {
     "language": "html"
    },
    "polyglot_notebook": {
     "kernelName": "html"
    }
   },
   "outputs": [
    {
     "data": {
      "text/html": [
       "<div style='background-color: #FF0000; color: white; padding: .5rem 1rem; font-weight: 600'>palette.GetColor(0) returns #FF0000</div>\r\n",
       "<div style='background-color: #FF4F00; color: white; padding: .5rem 1rem; font-weight: 600'>palette.GetColor(1) returns #FF4F00</div>\r\n",
       "<div style='background-color: #FFA900; color: white; padding: .5rem 1rem; font-weight: 600'>palette.GetColor(2) returns #FFA900</div>\r\n",
       "<div style='background-color: #900303; color: white; padding: .5rem 1rem; font-weight: 600'>palette.GetColor(3) returns #900303</div>\r\n",
       "<div style='background-color: #FF8181; color: black; padding: .5rem 1rem; font-weight: 600'>palette.GetColor(4) returns #FF8181</div>"
      ]
     },
     "metadata": {},
     "output_type": "display_data"
    }
   ],
   "source": [
    "<div style='background-color: #FF0000; color: white; padding: .5rem 1rem; font-weight: 600'>palette.GetColor(0) returns #FF0000</div>\n",
    "<div style='background-color: #FF4F00; color: white; padding: .5rem 1rem; font-weight: 600'>palette.GetColor(1) returns #FF4F00</div>\n",
    "<div style='background-color: #FFA900; color: white; padding: .5rem 1rem; font-weight: 600'>palette.GetColor(2) returns #FFA900</div>\n",
    "<div style='background-color: #900303; color: white; padding: .5rem 1rem; font-weight: 600'>palette.GetColor(3) returns #900303</div>\n",
    "<div style='background-color: #FF8181; color: black; padding: .5rem 1rem; font-weight: 600'>palette.GetColor(4) returns #FF8181</div>"
   ]
  },
  {
   "cell_type": "markdown",
   "metadata": {},
   "source": [
    "## Snow Storm\n",
    "\n",
    "From the Nord collection of palettes: https://github.com/arcticicestudio/nord"
   ]
  },
  {
   "cell_type": "code",
   "execution_count": 26,
   "metadata": {
    "dotnet_interactive": {
     "language": "fsharp"
    },
    "polyglot_notebook": {
     "kernelName": "fsharp"
    }
   },
   "outputs": [],
   "source": [
    "// Create an instance of the SnowStorm palette\n",
    "let palette = SnowStorm()\n",
    "let color = palette.GetColor(0) // Get a color from the palette"
   ]
  },
  {
   "cell_type": "code",
   "execution_count": 27,
   "metadata": {
    "dotnet_interactive": {
     "language": "html"
    },
    "polyglot_notebook": {
     "kernelName": "html"
    }
   },
   "outputs": [
    {
     "data": {
      "text/html": [
       "<div style='background-color: #D8DEE9; color: black; padding: .5rem 1rem; font-weight: 600'>palette.GetColor(0) returns #D8DEE9</div>\r\n",
       "<div style='background-color: #E5E9F0; color: black; padding: .5rem 1rem; font-weight: 600'>palette.GetColor(1) returns #E5E9F0</div>\r\n",
       "<div style='background-color: #ECEFF4; color: black; padding: .5rem 1rem; font-weight: 600'>palette.GetColor(2) returns #ECEFF4</div>"
      ]
     },
     "metadata": {},
     "output_type": "display_data"
    }
   ],
   "source": [
    "<div style='background-color: #D8DEE9; color: black; padding: .5rem 1rem; font-weight: 600'>palette.GetColor(0) returns #D8DEE9</div>\n",
    "<div style='background-color: #E5E9F0; color: black; padding: .5rem 1rem; font-weight: 600'>palette.GetColor(1) returns #E5E9F0</div>\n",
    "<div style='background-color: #ECEFF4; color: black; padding: .5rem 1rem; font-weight: 600'>palette.GetColor(2) returns #ECEFF4</div>"
   ]
  },
  {
   "cell_type": "markdown",
   "metadata": {},
   "source": [
    "## Summer Splash"
   ]
  },
  {
   "cell_type": "code",
   "execution_count": 21,
   "metadata": {
    "dotnet_interactive": {
     "language": "fsharp"
    },
    "polyglot_notebook": {
     "kernelName": "fsharp"
    }
   },
   "outputs": [],
   "source": [
    "// Create an instance of the SummerSplash palette\n",
    "let palette = SummerSplash()\n",
    "let color = palette.GetColor(0) // Get a color from the palette"
   ]
  },
  {
   "cell_type": "code",
   "execution_count": 25,
   "metadata": {
    "dotnet_interactive": {
     "language": "html"
    },
    "polyglot_notebook": {
     "kernelName": "html"
    }
   },
   "outputs": [
    {
     "data": {
      "text/html": [
       "<div style='background-color: #05445E; color: white; padding: .5rem 1rem; font-weight: 600'>palette.GetColor(0) returns #05445E</div>\r\n",
       "<div style='background-color: #189AB4; color: white; padding: .5rem 1rem; font-weight: 600'>palette.GetColor(1) returns #189AB4</div>\r\n",
       "<div style='background-color: #75E6DA; color: black; padding: .5rem 1rem; font-weight: 600'>palette.GetColor(2) returns #75E6DA</div>\r\n",
       "<div style='background-color: #D4F1F4; color: black; padding: .5rem 1rem; font-weight: 600'>palette.GetColor(3) returns #D4F1F4</div>"
      ]
     },
     "metadata": {},
     "output_type": "display_data"
    }
   ],
   "source": [
    "<div style='background-color: #05445E; color: white; padding: .5rem 1rem; font-weight: 600'>palette.GetColor(0) returns #05445E</div>\n",
    "<div style='background-color: #189AB4; color: white; padding: .5rem 1rem; font-weight: 600'>palette.GetColor(1) returns #189AB4</div>\n",
    "<div style='background-color: #75E6DA; color: black; padding: .5rem 1rem; font-weight: 600'>palette.GetColor(2) returns #75E6DA</div>\n",
    "<div style='background-color: #D4F1F4; color: black; padding: .5rem 1rem; font-weight: 600'>palette.GetColor(3) returns #D4F1F4</div>"
   ]
  },
  {
   "cell_type": "markdown",
   "metadata": {},
   "source": [
    "## Xgfs 25\n",
    "\n",
    "A 25-color palette by Arthurits adapted from Tsitsulin’s 12-color xgfs palette: http://tsitsul.in/blog/coloropt"
   ]
  },
  {
   "cell_type": "code",
   "execution_count": 18,
   "metadata": {
    "dotnet_interactive": {
     "language": "fsharp"
    },
    "polyglot_notebook": {
     "kernelName": "fsharp"
    }
   },
   "outputs": [],
   "source": [
    "// Create an instance of the Tsitsulin palette\n",
    "let palette = Tsitsulin()\n",
    "let color = palette.GetColor(0) // Get a color from the palette"
   ]
  },
  {
   "cell_type": "code",
   "execution_count": 17,
   "metadata": {
    "dotnet_interactive": {
     "language": "html"
    },
    "polyglot_notebook": {
     "kernelName": "html"
    }
   },
   "outputs": [
    {
     "data": {
      "text/html": [
       "<div style='background-color: #B80058; color: white; padding: .5rem 1rem; font-weight: 600'>palette.GetColor(1) returns #B80058</div>\r\n",
       "<div style='background-color: #008CF9; color: white; padding: .5rem 1rem; font-weight: 600'>palette.GetColor(2) returns #008CF9</div>\r\n",
       "<div style='background-color: #006E00; color: white; padding: .5rem 1rem; font-weight: 600'>palette.GetColor(3) returns #006E00</div>\r\n",
       "<div style='background-color: #00BBAD; color: white; padding: .5rem 1rem; font-weight: 600'>palette.GetColor(4) returns #00BBAD</div>\r\n",
       "<div style='background-color: #D163E6; color: white; padding: .5rem 1rem; font-weight: 600'>palette.GetColor(5) returns #D163E6</div>\r\n",
       "<div style='background-color: #B24502; color: white; padding: .5rem 1rem; font-weight: 600'>palette.GetColor(6) returns #B24502</div>\r\n",
       "<div style='background-color: #FF9287; color: white; padding: .5rem 1rem; font-weight: 600'>palette.GetColor(7) returns #FF9287</div>\r\n",
       "<div style='background-color: #5954D6; color: white; padding: .5rem 1rem; font-weight: 600'>palette.GetColor(8) returns #5954D6</div>\r\n",
       "<div style='background-color: #00C6F8; color: white; padding: .5rem 1rem; font-weight: 600'>palette.GetColor(9) returns #00C6F8</div>\r\n",
       "<div style='background-color: #878500; color: white; padding: .5rem 1rem; font-weight: 600'>palette.GetColor(10) returns #878500</div>\r\n",
       "<div style='background-color: #00A76C; color: white; padding: .5rem 1rem; font-weight: 600'>palette.GetColor(11) returns #00A76C</div>\r\n",
       "<div style='background-color: #F6DA9C; color: white; padding: .5rem 1rem; font-weight: 600'>palette.GetColor(12) returns #F6DA9C</div>\r\n",
       "<div style='background-color: #FF5CAA; color: white; padding: .5rem 1rem; font-weight: 600'>palette.GetColor(13) returns #FF5CAA</div>\r\n",
       "<div style='background-color: #8ACCFF; color: white; padding: .5rem 1rem; font-weight: 600'>palette.GetColor(14) returns #8ACCFF</div>\r\n",
       "<div style='background-color: #4BFF4B; color: white; padding: .5rem 1rem; font-weight: 600'>palette.GetColor(15) returns #4BFF4B</div>\r\n",
       "<div style='background-color: #6EFFF4; color: white; padding: .5rem 1rem; font-weight: 600'>palette.GetColor(16) returns #6EFFF4</div>\r\n",
       "<div style='background-color: #EDC1F5; color: white; padding: .5rem 1rem; font-weight: 600'>palette.GetColor(17) returns #EDC1F5</div>\r\n",
       "<div style='background-color: #FEAE7C; color: white; padding: .5rem 1rem; font-weight: 600'>palette.GetColor(18) returns #FEAE7C</div>\r\n",
       "<div style='background-color: #FFC8C3; color: white; padding: .5rem 1rem; font-weight: 600'>palette.GetColor(19) returns #FFC8C3</div>\r\n",
       "<div style='background-color: #BDBBEF; color: white; padding: .5rem 1rem; font-weight: 600'>palette.GetColor(20) returns #BDBBEF</div>\r\n",
       "<div style='background-color: #BDF2FF; color: white; padding: .5rem 1rem; font-weight: 600'>palette.GetColor(21) returns #BDF2FF</div>\r\n",
       "<div style='background-color: #FFFC43; color: white; padding: .5rem 1rem; font-weight: 600'>palette.GetColor(22) returns #FFFC43</div>\r\n",
       "<div style='background-color: #65FFC8; color: white; padding: .5rem 1rem; font-weight: 600'>palette.GetColor(23) returns #65FFC8</div>\r\n",
       "<div style='background-color: #AAAAAA; color: white; padding: .5rem 1rem; font-weight: 600'>palette.GetColor(24) returns #AAAAAA</div>"
      ]
     },
     "metadata": {},
     "output_type": "display_data"
    }
   ],
   "source": [
    "<div style='background-color: #B80058; color: white; padding: .5rem 1rem; font-weight: 600'>palette.GetColor(1) returns #B80058</div>\n",
    "<div style='background-color: #008CF9; color: white; padding: .5rem 1rem; font-weight: 600'>palette.GetColor(2) returns #008CF9</div>\n",
    "<div style='background-color: #006E00; color: white; padding: .5rem 1rem; font-weight: 600'>palette.GetColor(3) returns #006E00</div>\n",
    "<div style='background-color: #00BBAD; color: white; padding: .5rem 1rem; font-weight: 600'>palette.GetColor(4) returns #00BBAD</div>\n",
    "<div style='background-color: #D163E6; color: white; padding: .5rem 1rem; font-weight: 600'>palette.GetColor(5) returns #D163E6</div>\n",
    "<div style='background-color: #B24502; color: white; padding: .5rem 1rem; font-weight: 600'>palette.GetColor(6) returns #B24502</div>\n",
    "<div style='background-color: #FF9287; color: white; padding: .5rem 1rem; font-weight: 600'>palette.GetColor(7) returns #FF9287</div>\n",
    "<div style='background-color: #5954D6; color: white; padding: .5rem 1rem; font-weight: 600'>palette.GetColor(8) returns #5954D6</div>\n",
    "<div style='background-color: #00C6F8; color: white; padding: .5rem 1rem; font-weight: 600'>palette.GetColor(9) returns #00C6F8</div>\n",
    "<div style='background-color: #878500; color: white; padding: .5rem 1rem; font-weight: 600'>palette.GetColor(10) returns #878500</div>\n",
    "<div style='background-color: #00A76C; color: white; padding: .5rem 1rem; font-weight: 600'>palette.GetColor(11) returns #00A76C</div>\n",
    "<div style='background-color: #F6DA9C; color: white; padding: .5rem 1rem; font-weight: 600'>palette.GetColor(12) returns #F6DA9C</div>\n",
    "<div style='background-color: #FF5CAA; color: white; padding: .5rem 1rem; font-weight: 600'>palette.GetColor(13) returns #FF5CAA</div>\n",
    "<div style='background-color: #8ACCFF; color: white; padding: .5rem 1rem; font-weight: 600'>palette.GetColor(14) returns #8ACCFF</div>\n",
    "<div style='background-color: #4BFF4B; color: white; padding: .5rem 1rem; font-weight: 600'>palette.GetColor(15) returns #4BFF4B</div>\n",
    "<div style='background-color: #6EFFF4; color: white; padding: .5rem 1rem; font-weight: 600'>palette.GetColor(16) returns #6EFFF4</div>\n",
    "<div style='background-color: #EDC1F5; color: white; padding: .5rem 1rem; font-weight: 600'>palette.GetColor(17) returns #EDC1F5</div>\n",
    "<div style='background-color: #FEAE7C; color: white; padding: .5rem 1rem; font-weight: 600'>palette.GetColor(18) returns #FEAE7C</div>\n",
    "<div style='background-color: #FFC8C3; color: white; padding: .5rem 1rem; font-weight: 600'>palette.GetColor(19) returns #FFC8C3</div>\n",
    "<div style='background-color: #BDBBEF; color: white; padding: .5rem 1rem; font-weight: 600'>palette.GetColor(20) returns #BDBBEF</div>\n",
    "<div style='background-color: #BDF2FF; color: white; padding: .5rem 1rem; font-weight: 600'>palette.GetColor(21) returns #BDF2FF</div>\n",
    "<div style='background-color: #FFFC43; color: white; padding: .5rem 1rem; font-weight: 600'>palette.GetColor(22) returns #FFFC43</div>\n",
    "<div style='background-color: #65FFC8; color: white; padding: .5rem 1rem; font-weight: 600'>palette.GetColor(23) returns #65FFC8</div>\n",
    "<div style='background-color: #AAAAAA; color: white; padding: .5rem 1rem; font-weight: 600'>palette.GetColor(24) returns #AAAAAA</div>"
   ]
  },
  {
   "cell_type": "code",
   "execution_count": null,
   "metadata": {},
   "outputs": [],
   "source": []
  }
 ],
 "metadata": {
  "kernelspec": {
   "display_name": ".NET (F#)",
   "language": "F#",
   "name": ".net-fsharp"
  },
  "polyglot_notebook": {
   "kernelInfo": {
    "defaultKernelName": "fsharp",
    "items": [
     {
      "aliases": [],
      "languageName": "fsharp",
      "name": "fsharp"
     }
    ]
   }
  }
 },
 "nbformat": 4,
 "nbformat_minor": 2
}
