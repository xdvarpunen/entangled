{
 "cells": [
  {
   "cell_type": "code",
   "execution_count": 26,
   "metadata": {
    "dotnet_interactive": {
     "language": "fsharp"
    },
    "polyglot_notebook": {
     "kernelName": "fsharp"
    }
   },
   "outputs": [
    {
     "data": {
      "text/html": [
       "<table><tbody><tr><td><img src=\"data:image/png;base64, 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\" width=\"125em\"></img></td><td style=\"line-height:.8em\"><p style=\"font-size:1.5em\"><b>.NET Interactive</b></p><p>&#169; 2020 Microsoft Corporation</p><p><b>Version: </b>1.0.522904+cdfa48b2ea1a27dfe0f545c42a34fd3ec7119074</p><p><b>Library version: </b>1.0.0-beta.24229.4+cdfa48b2ea1a27dfe0f545c42a34fd3ec7119074</p><p><b>Build date: </b>2024-10-05T01:28:30.3244930Z</p><p><a href=\"https://github.com/dotnet/interactive\">https://github.com/dotnet/interactive</a></p></td></tr></tbody></table>"
      ]
     },
     "metadata": {},
     "output_type": "display_data"
    }
   ],
   "source": [
    "#!about\n"
   ]
  },
  {
   "cell_type": "markdown",
   "metadata": {},
   "source": [
    "Making ScottPlot work in .NET Interactive. \n",
    "\n",
    "Source\n",
    "- https://scottplot.net/quickstart/notebook/\n",
    "- https://scottplot.net/quickstart/fsharp/"
   ]
  },
  {
   "cell_type": "code",
   "execution_count": 2,
   "metadata": {
    "dotnet_interactive": {
     "language": "fsharp"
    },
    "polyglot_notebook": {
     "kernelName": "fsharp"
    }
   },
   "outputs": [
    {
     "data": {
      "text/html": [
       "<div><div></div><div></div><div><strong>Installed Packages</strong><ul><li><span>ScottPlot, 5.0.39</span></li></ul></div></div>"
      ]
     },
     "metadata": {},
     "output_type": "display_data"
    },
    {
     "data": {
      "text/plain": [
       "Loading extensions from `C:\\Users\\0\\.nuget\\packages\\skiasharp\\2.88.8\\interactive-extensions\\dotnet\\SkiaSharp.DotNet.Interactive.dll`"
      ]
     },
     "metadata": {},
     "output_type": "display_data"
    }
   ],
   "source": [
    "// Install the ScottPlot NuGet package\n",
    "#r \"nuget:ScottPlot, 5.0.*\"\n",
    "open ScottPlot"
   ]
  },
  {
   "cell_type": "code",
   "execution_count": 11,
   "metadata": {
    "dotnet_interactive": {
     "language": "fsharp"
    },
    "polyglot_notebook": {
     "kernelName": "fsharp"
    }
   },
   "outputs": [],
   "source": [
    "open Microsoft.DotNet.Interactive.Formatting\n",
    "open ScottPlot\n",
    "open System.IO\n",
    "\n",
    "Formatter.Register<Plot>(\n",
    "    (fun (p: Plot) (w: TextWriter) -> \n",
    "        w.Write(p.GetImageHtml(400, 300))), \n",
    "    HtmlFormatter.MimeType\n",
    ")"
   ]
  },
  {
   "cell_type": "code",
   "execution_count": 25,
   "metadata": {
    "dotnet_interactive": {
     "language": "fsharp"
    },
    "polyglot_notebook": {
     "kernelName": "fsharp"
    }
   },
   "outputs": [
    {
     "data": {
      "text/html": [
       "<img src=\"data:image/png;base64,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\"></img>"
      ]
     },
     "metadata": {},
     "output_type": "display_data"
    }
   ],
   "source": [
    "open ScottPlot\n",
    "\n",
    "let dataX = [| 1.0 .. 10.0 |]\n",
    "let dataY = [| for x in dataX -> x * x |]\n",
    "let plt = new Plot()\n",
    "plt.Add.Scatter(dataX, dataY)\n",
    "plt"
   ]
  }
 ],
 "metadata": {
  "kernelspec": {
   "display_name": ".NET (C#)",
   "language": "C#",
   "name": ".net-csharp"
  },
  "polyglot_notebook": {
   "kernelInfo": {
    "defaultKernelName": "csharp",
    "items": [
     {
      "aliases": [],
      "name": "csharp"
     },
     {
      "aliases": [],
      "languageName": "fsharp",
      "name": "fsharp"
     }
    ]
   }
  }
 },
 "nbformat": 4,
 "nbformat_minor": 2
}
